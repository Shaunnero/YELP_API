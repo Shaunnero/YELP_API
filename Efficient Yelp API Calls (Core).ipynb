{
 "cells": [
  {
   "cell_type": "code",
   "execution_count": 1,
   "id": "fdc749e9-7fb7-4743-8b73-d1257ba05fc6",
   "metadata": {},
   "outputs": [],
   "source": [
    "import json\n",
    "from yelpapi import YelpAPI\n",
    "import numpy as np\n",
    "import pandas as pd\n",
    "import matplotlib.pyplot as plt\n",
    "import seaborn as sns\n",
    "# Additional Imports\n",
    "import os, json, math, time\n",
    "from yelpapi import YelpAPI\n",
    "from tqdm.notebook import tqdm_notebook"
   ]
  },
  {
   "cell_type": "code",
   "execution_count": 2,
   "id": "70e8d4f9-efa8-473c-a66c-e50d2cbe03f1",
   "metadata": {},
   "outputs": [
    {
     "data": {
      "text/plain": [
       "dict_keys(['client-id', 'api-key'])"
      ]
     },
     "execution_count": 2,
     "metadata": {},
     "output_type": "execute_result"
    }
   ],
   "source": [
    "\n",
    "with open('C:/Users/Shaun/.secret/yelp_api.json') as f: \n",
    "    login = json.load(f)\n",
    "login.keys()\n"
   ]
  },
  {
   "cell_type": "code",
   "execution_count": 3,
   "id": "9669cadd-0c81-43b9-8d47-560e90110815",
   "metadata": {},
   "outputs": [
    {
     "data": {
      "text/plain": [
       "<yelpapi.yelpapi.YelpAPI at 0x1dc9ae891b0>"
      ]
     },
     "execution_count": 3,
     "metadata": {},
     "output_type": "execute_result"
    }
   ],
   "source": [
    "yelp_api = YelpAPI(login['api-key'], timeout_s=5.0)\n",
    "yelp_api\n"
   ]
  },
  {
   "cell_type": "code",
   "execution_count": 4,
   "id": "8bc214e8-4cf1-4576-945d-32c2684911a6",
   "metadata": {},
   "outputs": [],
   "source": [
    "# set our API call parameters \n",
    "LOCATION = 'NY,NY'\n",
    "TERM = 'Sushi'\n"
   ]
  },
  {
   "cell_type": "code",
   "execution_count": 5,
   "id": "7876f2c1-59a1-45a7-bffb-a7c75a9dff52",
   "metadata": {},
   "outputs": [
    {
     "data": {
      "text/plain": [
       "'Data/results_in_progress_NY_sushi.json'"
      ]
     },
     "execution_count": 5,
     "metadata": {},
     "output_type": "execute_result"
    }
   ],
   "source": [
    "JSON_FILE = \"Data/results_in_progress_NY_sushi.json\"\n",
    "JSON_FILE"
   ]
  },
  {
   "cell_type": "code",
   "execution_count": 6,
   "id": "d40058f7-d7ec-433b-aeae-2b8e7a89a45d",
   "metadata": {},
   "outputs": [
    {
     "name": "stdout",
     "output_type": "stream",
     "text": [
      "[i] Data/results_in_progress_NY_sushi.json already exists.\n"
     ]
    }
   ],
   "source": [
    "## Check if JSON_FILE exists\n",
    "file_exists = os.path.isfile(JSON_FILE)\n",
    "## If it does not exist: if file_exists == False:\n",
    "    \n",
    "## CREATE ANY NEEDED FOLDERS# Get the Folder Name only\n",
    "folder = os.path.dirname(JSON_FILE)\n",
    "## If JSON_FILE included a folder:if len(folder)>0:\n",
    "# create the folder\n",
    "os.makedirs(folder,exist_ok=True)\n",
    "        \n",
    "        \n",
    "## INFORM USER AND SAVE EMPTY LISTprint(f'[i] {JSON_FILE} not found. Saving empty list to file.')\n",
    "    \n",
    "    \n",
    "# save an empty list\n",
    "with open(JSON_FILE,'w') as f:\n",
    "    json.dump([],f)  \n",
    "\n",
    "# If it exists, inform userelse:\n",
    "print(f\"[i] {JSON_FILE} already exists.\")"
   ]
  },
  {
   "cell_type": "code",
   "execution_count": 7,
   "id": "70399400-d93c-4dda-87fa-87d8b7a590a5",
   "metadata": {},
   "outputs": [
    {
     "name": "stdout",
     "output_type": "stream",
     "text": [
      "- 0 previous results found.\n"
     ]
    }
   ],
   "source": [
    "## Load previous results and use len of results for offset\n",
    "with open(JSON_FILE,'r') as f:\n",
    "    previous_results = json.load(f)\n",
    "    \n",
    "## set offset based on previous results\n",
    "n_results = len(previous_results)\n",
    "print(f'- {n_results} previous results found.')\n"
   ]
  },
  {
   "cell_type": "code",
   "execution_count": 8,
   "id": "e10ee8c1-d5be-48f1-9b7c-3527dfc250af",
   "metadata": {},
   "outputs": [
    {
     "data": {
      "text/plain": [
       "dict_keys(['businesses', 'total', 'region'])"
      ]
     },
     "execution_count": 8,
     "metadata": {},
     "output_type": "execute_result"
    }
   ],
   "source": [
    "# use our yelp_api variable's search_query method to perform our API call\n",
    "results = yelp_api.search_query(location=LOCATION,\n",
    "                                term=TERM,\n",
    "                               offset=n_results)\n",
    "results.keys()\n"
   ]
  },
  {
   "cell_type": "code",
   "execution_count": 9,
   "id": "028dba9a-69b7-4752-97c9-efa1ac894420",
   "metadata": {},
   "outputs": [
    {
     "data": {
      "text/plain": [
       "4200"
      ]
     },
     "execution_count": 9,
     "metadata": {},
     "output_type": "execute_result"
    }
   ],
   "source": [
    "## How many results total?\n",
    "total_results = results['total']\n",
    "total_results\n"
   ]
  },
  {
   "cell_type": "code",
   "execution_count": 10,
   "id": "e7d4a936-c899-4d27-b9e2-5e81cc5ad1b7",
   "metadata": {},
   "outputs": [
    {
     "data": {
      "text/plain": [
       "20"
      ]
     },
     "execution_count": 10,
     "metadata": {},
     "output_type": "execute_result"
    }
   ],
   "source": [
    "## How many did we get the details for?\n",
    "results_per_page = len(results['businesses'])\n",
    "results_per_page"
   ]
  },
  {
   "cell_type": "code",
   "execution_count": 11,
   "id": "b2309489-a34d-48b8-bfab-6c13cce457c2",
   "metadata": {},
   "outputs": [
    {
     "data": {
      "text/plain": [
       "210"
      ]
     },
     "execution_count": 11,
     "metadata": {},
     "output_type": "execute_result"
    }
   ],
   "source": [
    "# Use math.ceil to round up for the total number of pages of results.\n",
    "n_pages = math.ceil((results['total']-n_results)/ results_per_page)\n",
    "n_pages"
   ]
  },
  {
   "cell_type": "code",
   "execution_count": 12,
   "id": "a0a6b291-23d1-4c07-87fe-87f2ae3f67b1",
   "metadata": {},
   "outputs": [],
   "source": [
    "# join new results with old list with extend and save to file\n",
    "previous_results.extend(results['businesses'])  \n",
    "with open(JSON_FILE,'w') as f:\n",
    "     json.dump(previous_results,f)"
   ]
  },
  {
   "cell_type": "code",
   "execution_count": 13,
   "id": "d2688c10-61a2-478d-a081-56e64fe60ff4",
   "metadata": {},
   "outputs": [],
   "source": [
    "def create_json_file(JSON_FILE, delete_if_exists=False):\n",
    "    # Check if JSON_FILE exists\n",
    "    file_exists = os.path.isfile(JSON_FILE)\n",
    "\n",
    "    # If it DOES exist:\n",
    "    if file_exists == True:\n",
    "        # Check if user wants to delete if exists\n",
    "        if delete_if_exists:\n",
    "            print(f\"[!] {JSON_FILE} already exists. Deleting previous file...\")\n",
    "            # delete file\n",
    "            os.remove(JSON_FILE)\n",
    "            # Recursive call to function after old file deleted\n",
    "            create_json_file(JSON_FILE, delete_if_exists=False)\n",
    "        else:\n",
    "            print(f\"[i] {JSON_FILE} already exists.\")\n",
    "    \n",
    "    # If it does NOT exist:\n",
    "    else:\n",
    "        # INFORM USER AND SAVE EMPTY LIST\n",
    "        print(f\"[i] {JSON_FILE} not found. Saving empty list to new file.\")\n",
    "\n",
    "        # CREATE ANY NEEDED FOLDERS\n",
    "        # Get the Folder Name only\n",
    "        folder = os.path.dirname(JSON_FILE)\n",
    "\n",
    "        # If JSON_FILE included a folder:\n",
    "        if len(folder) > 0:\n",
    "            # create the folder\n",
    "            os.makedirs(folder, exist_ok=True)\n",
    "        \n",
    "        # Save empty list to start the json file\n",
    "        with open(JSON_FILE, 'w') as f:\n",
    "            json.dump([], f)\n",
    "\n",
    "# Example usage:\n",
    "# create_json_file(\"example.json\", delete_if_exists=True)"
   ]
  },
  {
   "cell_type": "code",
   "execution_count": 14,
   "id": "1a1df8ae-471a-4415-883c-e5017fa743d7",
   "metadata": {},
   "outputs": [
    {
     "name": "stdout",
     "output_type": "stream",
     "text": [
      "[!] Data/results_in_progress_NY_sushi.json already exists. Deleting previous file...\n",
      "[i] Data/results_in_progress_NY_sushi.json not found. Saving empty list to new file.\n",
      "- 0 previous results found.\n"
     ]
    },
    {
     "data": {
      "text/plain": [
       "210"
      ]
     },
     "execution_count": 14,
     "metadata": {},
     "output_type": "execute_result"
    }
   ],
   "source": [
    "## Create a new empty json file (exist the previous if it exists)\n",
    "create_json_file(JSON_FILE, delete_if_exists=True)\n",
    "## Load previous results and use len of results for offset\n",
    "with open(JSON_FILE,'r') as f:\n",
    "    previous_results = json.load(f)\n",
    "    \n",
    "## set offset based on previous results\n",
    "n_results = len(previous_results)\n",
    "print(f'- {n_results} previous results found.')\n",
    "# use our yelp_api variable's search_query method to perform our API call\n",
    "results = yelp_api.search_query(location=LOCATION,\n",
    "                                term=TERM,\n",
    "                               offset=n_results)\n",
    "## How many results total?\n",
    "total_results = results['total']\n",
    "## How many did we get the details for?\n",
    "results_per_page = len(results['businesses'])\n",
    "# Use math.ceil to round up for the total number of pages of results.\n",
    "n_pages = math.ceil((results['total']-n_results)/ results_per_page)\n",
    "n_pages"
   ]
  },
  {
   "cell_type": "code",
   "execution_count": 15,
   "id": "aebc8849-bbaa-4b05-8961-7c08c1699180",
   "metadata": {},
   "outputs": [
    {
     "data": {
      "application/vnd.jupyter.widget-view+json": {
       "model_id": "8cc33e31806445ebb9434104c8914935",
       "version_major": 2,
       "version_minor": 0
      },
      "text/plain": [
       "  0%|          | 0/210 [00:00<?, ?it/s]"
      ]
     },
     "metadata": {},
     "output_type": "display_data"
    },
    {
     "name": "stdout",
     "output_type": "stream",
     "text": [
      "Exceeded 1000 api calls. Stopping loop.\n"
     ]
    }
   ],
   "source": [
    "for i in tqdm_notebook( range(1,n_pages+1)):\n",
    "    \n",
    "    ## Read in results in progress file and check the length\n",
    "    with open(JSON_FILE, 'r') as f:\n",
    "        previous_results = json.load(f)\n",
    "    ## save number of results for to use as offset\n",
    "    n_results = len(previous_results)\n",
    "    \n",
    "    if (n_results + results_per_page) > 1000:\n",
    "        print('Exceeded 1000 api calls. Stopping loop.')\n",
    "        break## use n_results as the OFFSET \n",
    "    results = yelp_api.search_query(location=LOCATION,\n",
    "                                    term=TERM, \n",
    "                                    offset=n_results)\n",
    "    \n",
    "    \n",
    "    \n",
    "    ## append new results and save to file\n",
    "    previous_results.extend(results['businesses'])\n",
    "    \n",
    "    # display(previous_results)\n",
    "    with open(JSON_FILE,'w') as f:\n",
    "        json.dump(previous_results,f)\n",
    "    \n",
    "    time.sleep(.2)\n",
    "\n",
    "# Exceeded 1000 api calls. Stopping loop."
   ]
  },
  {
   "cell_type": "code",
   "execution_count": 16,
   "id": "1b114aa1-e99d-4491-a049-37bfd3092368",
   "metadata": {},
   "outputs": [
    {
     "data": {
      "text/html": [
       "<div>\n",
       "<style scoped>\n",
       "    .dataframe tbody tr th:only-of-type {\n",
       "        vertical-align: middle;\n",
       "    }\n",
       "\n",
       "    .dataframe tbody tr th {\n",
       "        vertical-align: top;\n",
       "    }\n",
       "\n",
       "    .dataframe thead th {\n",
       "        text-align: right;\n",
       "    }\n",
       "</style>\n",
       "<table border=\"1\" class=\"dataframe\">\n",
       "  <thead>\n",
       "    <tr style=\"text-align: right;\">\n",
       "      <th></th>\n",
       "      <th>id</th>\n",
       "      <th>alias</th>\n",
       "      <th>name</th>\n",
       "      <th>image_url</th>\n",
       "      <th>is_closed</th>\n",
       "      <th>url</th>\n",
       "      <th>review_count</th>\n",
       "      <th>categories</th>\n",
       "      <th>rating</th>\n",
       "      <th>coordinates</th>\n",
       "      <th>transactions</th>\n",
       "      <th>location</th>\n",
       "      <th>phone</th>\n",
       "      <th>display_phone</th>\n",
       "      <th>distance</th>\n",
       "      <th>price</th>\n",
       "    </tr>\n",
       "  </thead>\n",
       "  <tbody>\n",
       "    <tr>\n",
       "      <th>0</th>\n",
       "      <td>k8YJDry6_pbPIiCPeK-6mQ</td>\n",
       "      <td>mikado-brooklyn</td>\n",
       "      <td>Mikado</td>\n",
       "      <td>https://s3-media2.fl.yelpcdn.com/bphoto/MNIqGY...</td>\n",
       "      <td>False</td>\n",
       "      <td>https://www.yelp.com/biz/mikado-brooklyn?adjus...</td>\n",
       "      <td>44</td>\n",
       "      <td>[{'alias': 'japanese', 'title': 'Japanese'}, {...</td>\n",
       "      <td>4.5</td>\n",
       "      <td>{'latitude': 40.69032888195518, 'longitude': -...</td>\n",
       "      <td>[delivery, pickup]</td>\n",
       "      <td>{'address1': '177 Atlantic Ave', 'address2': N...</td>\n",
       "      <td>+12123811388</td>\n",
       "      <td>(212) 381-1388</td>\n",
       "      <td>1681.307993</td>\n",
       "      <td>NaN</td>\n",
       "    </tr>\n",
       "    <tr>\n",
       "      <th>1</th>\n",
       "      <td>AudBWxeAr3zHr1ITrTcVpg</td>\n",
       "      <td>izakaya-fuku-jackson-heights</td>\n",
       "      <td>Izakaya Fuku</td>\n",
       "      <td>https://s3-media1.fl.yelpcdn.com/bphoto/mVURSC...</td>\n",
       "      <td>False</td>\n",
       "      <td>https://www.yelp.com/biz/izakaya-fuku-jackson-...</td>\n",
       "      <td>299</td>\n",
       "      <td>[{'alias': 'japanese', 'title': 'Japanese'}]</td>\n",
       "      <td>4.5</td>\n",
       "      <td>{'latitude': 40.74635, 'longitude': -73.89383}</td>\n",
       "      <td>[pickup, delivery, restaurant_reservation]</td>\n",
       "      <td>{'address1': '71-28 Roosevelt Ave', 'address2'...</td>\n",
       "      <td>+17182551120</td>\n",
       "      <td>(718) 255-1120</td>\n",
       "      <td>9608.700043</td>\n",
       "      <td>$$</td>\n",
       "    </tr>\n",
       "    <tr>\n",
       "      <th>2</th>\n",
       "      <td>W0YGwDTYRjUCBgtpqHXSAg</td>\n",
       "      <td>iwak-brooklyn</td>\n",
       "      <td>IWak</td>\n",
       "      <td>https://s3-media1.fl.yelpcdn.com/bphoto/JesScm...</td>\n",
       "      <td>False</td>\n",
       "      <td>https://www.yelp.com/biz/iwak-brooklyn?adjust_...</td>\n",
       "      <td>70</td>\n",
       "      <td>[{'alias': 'sushi', 'title': 'Sushi Bars'}]</td>\n",
       "      <td>5.0</td>\n",
       "      <td>{'latitude': 40.71244591155105, 'longitude': -...</td>\n",
       "      <td>[delivery, pickup]</td>\n",
       "      <td>{'address1': '340 Grand St', 'address2': None,...</td>\n",
       "      <td>+19299924925</td>\n",
       "      <td>(929) 992-4925</td>\n",
       "      <td>3301.811149</td>\n",
       "      <td>NaN</td>\n",
       "    </tr>\n",
       "    <tr>\n",
       "      <th>3</th>\n",
       "      <td>BPZfuPvSxCfoppU4lPFm0Q</td>\n",
       "      <td>domodomo-new-york-new-york-4</td>\n",
       "      <td>DOMODOMO - New York</td>\n",
       "      <td>https://s3-media1.fl.yelpcdn.com/bphoto/YX89PD...</td>\n",
       "      <td>False</td>\n",
       "      <td>https://www.yelp.com/biz/domodomo-new-york-new...</td>\n",
       "      <td>1596</td>\n",
       "      <td>[{'alias': 'japanese', 'title': 'Japanese'}, {...</td>\n",
       "      <td>4.0</td>\n",
       "      <td>{'latitude': 40.7280299, 'longitude': -74.00167}</td>\n",
       "      <td>[delivery]</td>\n",
       "      <td>{'address1': '140 W Houston St', 'address2': N...</td>\n",
       "      <td>+16467070301</td>\n",
       "      <td>(646) 707-0301</td>\n",
       "      <td>2584.282555</td>\n",
       "      <td>$$$</td>\n",
       "    </tr>\n",
       "    <tr>\n",
       "      <th>4</th>\n",
       "      <td>pNe8ZCkGTe4cXfKdOF7kYQ</td>\n",
       "      <td>ise-restaurant-new-york-3</td>\n",
       "      <td>Ise Restaurant</td>\n",
       "      <td>https://s3-media2.fl.yelpcdn.com/bphoto/S5SGXw...</td>\n",
       "      <td>False</td>\n",
       "      <td>https://www.yelp.com/biz/ise-restaurant-new-yo...</td>\n",
       "      <td>642</td>\n",
       "      <td>[{'alias': 'japanese', 'title': 'Japanese'}, {...</td>\n",
       "      <td>4.5</td>\n",
       "      <td>{'latitude': 40.7291024, 'longitude': -73.9900...</td>\n",
       "      <td>[restaurant_reservation, pickup, delivery]</td>\n",
       "      <td>{'address1': '63 Cooper Sq', 'address2': None,...</td>\n",
       "      <td>+12122284152</td>\n",
       "      <td>(212) 228-4152</td>\n",
       "      <td>2654.657530</td>\n",
       "      <td>$$</td>\n",
       "    </tr>\n",
       "  </tbody>\n",
       "</table>\n",
       "</div>"
      ],
      "text/plain": [
       "                       id                         alias                 name  \\\n",
       "0  k8YJDry6_pbPIiCPeK-6mQ               mikado-brooklyn               Mikado   \n",
       "1  AudBWxeAr3zHr1ITrTcVpg  izakaya-fuku-jackson-heights         Izakaya Fuku   \n",
       "2  W0YGwDTYRjUCBgtpqHXSAg                 iwak-brooklyn                 IWak   \n",
       "3  BPZfuPvSxCfoppU4lPFm0Q  domodomo-new-york-new-york-4  DOMODOMO - New York   \n",
       "4  pNe8ZCkGTe4cXfKdOF7kYQ     ise-restaurant-new-york-3       Ise Restaurant   \n",
       "\n",
       "                                           image_url  is_closed  \\\n",
       "0  https://s3-media2.fl.yelpcdn.com/bphoto/MNIqGY...      False   \n",
       "1  https://s3-media1.fl.yelpcdn.com/bphoto/mVURSC...      False   \n",
       "2  https://s3-media1.fl.yelpcdn.com/bphoto/JesScm...      False   \n",
       "3  https://s3-media1.fl.yelpcdn.com/bphoto/YX89PD...      False   \n",
       "4  https://s3-media2.fl.yelpcdn.com/bphoto/S5SGXw...      False   \n",
       "\n",
       "                                                 url  review_count  \\\n",
       "0  https://www.yelp.com/biz/mikado-brooklyn?adjus...            44   \n",
       "1  https://www.yelp.com/biz/izakaya-fuku-jackson-...           299   \n",
       "2  https://www.yelp.com/biz/iwak-brooklyn?adjust_...            70   \n",
       "3  https://www.yelp.com/biz/domodomo-new-york-new...          1596   \n",
       "4  https://www.yelp.com/biz/ise-restaurant-new-yo...           642   \n",
       "\n",
       "                                          categories  rating  \\\n",
       "0  [{'alias': 'japanese', 'title': 'Japanese'}, {...     4.5   \n",
       "1       [{'alias': 'japanese', 'title': 'Japanese'}]     4.5   \n",
       "2        [{'alias': 'sushi', 'title': 'Sushi Bars'}]     5.0   \n",
       "3  [{'alias': 'japanese', 'title': 'Japanese'}, {...     4.0   \n",
       "4  [{'alias': 'japanese', 'title': 'Japanese'}, {...     4.5   \n",
       "\n",
       "                                         coordinates  \\\n",
       "0  {'latitude': 40.69032888195518, 'longitude': -...   \n",
       "1     {'latitude': 40.74635, 'longitude': -73.89383}   \n",
       "2  {'latitude': 40.71244591155105, 'longitude': -...   \n",
       "3   {'latitude': 40.7280299, 'longitude': -74.00167}   \n",
       "4  {'latitude': 40.7291024, 'longitude': -73.9900...   \n",
       "\n",
       "                                 transactions  \\\n",
       "0                          [delivery, pickup]   \n",
       "1  [pickup, delivery, restaurant_reservation]   \n",
       "2                          [delivery, pickup]   \n",
       "3                                  [delivery]   \n",
       "4  [restaurant_reservation, pickup, delivery]   \n",
       "\n",
       "                                            location         phone  \\\n",
       "0  {'address1': '177 Atlantic Ave', 'address2': N...  +12123811388   \n",
       "1  {'address1': '71-28 Roosevelt Ave', 'address2'...  +17182551120   \n",
       "2  {'address1': '340 Grand St', 'address2': None,...  +19299924925   \n",
       "3  {'address1': '140 W Houston St', 'address2': N...  +16467070301   \n",
       "4  {'address1': '63 Cooper Sq', 'address2': None,...  +12122284152   \n",
       "\n",
       "    display_phone     distance price  \n",
       "0  (212) 381-1388  1681.307993   NaN  \n",
       "1  (718) 255-1120  9608.700043    $$  \n",
       "2  (929) 992-4925  3301.811149   NaN  \n",
       "3  (646) 707-0301  2584.282555   $$$  \n",
       "4  (212) 228-4152  2654.657530    $$  "
      ]
     },
     "metadata": {},
     "output_type": "display_data"
    },
    {
     "data": {
      "text/html": [
       "<div>\n",
       "<style scoped>\n",
       "    .dataframe tbody tr th:only-of-type {\n",
       "        vertical-align: middle;\n",
       "    }\n",
       "\n",
       "    .dataframe tbody tr th {\n",
       "        vertical-align: top;\n",
       "    }\n",
       "\n",
       "    .dataframe thead th {\n",
       "        text-align: right;\n",
       "    }\n",
       "</style>\n",
       "<table border=\"1\" class=\"dataframe\">\n",
       "  <thead>\n",
       "    <tr style=\"text-align: right;\">\n",
       "      <th></th>\n",
       "      <th>id</th>\n",
       "      <th>alias</th>\n",
       "      <th>name</th>\n",
       "      <th>image_url</th>\n",
       "      <th>is_closed</th>\n",
       "      <th>url</th>\n",
       "      <th>review_count</th>\n",
       "      <th>categories</th>\n",
       "      <th>rating</th>\n",
       "      <th>coordinates</th>\n",
       "      <th>transactions</th>\n",
       "      <th>location</th>\n",
       "      <th>phone</th>\n",
       "      <th>display_phone</th>\n",
       "      <th>distance</th>\n",
       "      <th>price</th>\n",
       "    </tr>\n",
       "  </thead>\n",
       "  <tbody>\n",
       "    <tr>\n",
       "      <th>995</th>\n",
       "      <td>6UbOi5oDDQUJAI9V2pv11w</td>\n",
       "      <td>akimoto-sushi-new-york</td>\n",
       "      <td>Akimoto Sushi</td>\n",
       "      <td>https://s3-media3.fl.yelpcdn.com/bphoto/qPn2Ix...</td>\n",
       "      <td>False</td>\n",
       "      <td>https://www.yelp.com/biz/akimoto-sushi-new-yor...</td>\n",
       "      <td>105</td>\n",
       "      <td>[{'alias': 'sushi', 'title': 'Sushi Bars'}]</td>\n",
       "      <td>2.5</td>\n",
       "      <td>{'latitude': 40.7156982, 'longitude': -74.0071...</td>\n",
       "      <td>[pickup, delivery]</td>\n",
       "      <td>{'address1': '187 Church St', 'address2': '', ...</td>\n",
       "      <td>+12127663350</td>\n",
       "      <td>(212) 766-3350</td>\n",
       "      <td>1570.777813</td>\n",
       "      <td>$$</td>\n",
       "    </tr>\n",
       "    <tr>\n",
       "      <th>996</th>\n",
       "      <td>apIonqUbtLWLeZtzQ8FR8g</td>\n",
       "      <td>umi-kitchen-bayonne</td>\n",
       "      <td>Umi Kitchen</td>\n",
       "      <td>https://s3-media1.fl.yelpcdn.com/bphoto/Tnl04v...</td>\n",
       "      <td>False</td>\n",
       "      <td>https://www.yelp.com/biz/umi-kitchen-bayonne?a...</td>\n",
       "      <td>25</td>\n",
       "      <td>[{'alias': 'chinese', 'title': 'Chinese'}, {'a...</td>\n",
       "      <td>4.5</td>\n",
       "      <td>{'latitude': 40.66901464160359, 'longitude': -...</td>\n",
       "      <td>[pickup, delivery]</td>\n",
       "      <td>{'address1': '639 Broadway', 'address2': 'Ste ...</td>\n",
       "      <td>+12014378888</td>\n",
       "      <td>(201) 437-8888</td>\n",
       "      <td>10888.686737</td>\n",
       "      <td>NaN</td>\n",
       "    </tr>\n",
       "    <tr>\n",
       "      <th>997</th>\n",
       "      <td>eultmfyScNW-KoYI0-m9uw</td>\n",
       "      <td>wow-sushi-rockville-centre</td>\n",
       "      <td>Wow Sushi</td>\n",
       "      <td>https://s3-media1.fl.yelpcdn.com/bphoto/sXxnqV...</td>\n",
       "      <td>False</td>\n",
       "      <td>https://www.yelp.com/biz/wow-sushi-rockville-c...</td>\n",
       "      <td>46</td>\n",
       "      <td>[{'alias': 'seafoodmarkets', 'title': 'Seafood...</td>\n",
       "      <td>4.5</td>\n",
       "      <td>{'latitude': 40.6607388, 'longitude': -73.6290...</td>\n",
       "      <td>[delivery]</td>\n",
       "      <td>{'address1': '201 N Long Beach Rd', 'address2'...</td>\n",
       "      <td>+15166785730</td>\n",
       "      <td>(516) 678-5730</td>\n",
       "      <td>31210.651644</td>\n",
       "      <td>$$</td>\n",
       "    </tr>\n",
       "    <tr>\n",
       "      <th>998</th>\n",
       "      <td>skIF77R0hzf-a182aVk4gQ</td>\n",
       "      <td>geisha-asian-fusion-new-york</td>\n",
       "      <td>Geisha Asian Fusion</td>\n",
       "      <td>https://s3-media2.fl.yelpcdn.com/bphoto/qUKQ-o...</td>\n",
       "      <td>False</td>\n",
       "      <td>https://www.yelp.com/biz/geisha-asian-fusion-n...</td>\n",
       "      <td>49</td>\n",
       "      <td>[{'alias': 'asianfusion', 'title': 'Asian Fusi...</td>\n",
       "      <td>4.0</td>\n",
       "      <td>{'latitude': 40.84799, 'longitude': -73.93765}</td>\n",
       "      <td>[pickup, delivery]</td>\n",
       "      <td>{'address1': '4186 Broadway', 'address2': None...</td>\n",
       "      <td>+12129271246</td>\n",
       "      <td>(212) 927-1246</td>\n",
       "      <td>16550.191367</td>\n",
       "      <td>NaN</td>\n",
       "    </tr>\n",
       "    <tr>\n",
       "      <th>999</th>\n",
       "      <td>nsgnjPtxQTD2h-wPQWjuDA</td>\n",
       "      <td>asahi-sushi-norwood</td>\n",
       "      <td>Asahi Sushi</td>\n",
       "      <td>https://s3-media4.fl.yelpcdn.com/bphoto/vMcUxS...</td>\n",
       "      <td>False</td>\n",
       "      <td>https://www.yelp.com/biz/asahi-sushi-norwood?a...</td>\n",
       "      <td>126</td>\n",
       "      <td>[{'alias': 'japanese', 'title': 'Japanese'}, {...</td>\n",
       "      <td>4.0</td>\n",
       "      <td>{'latitude': 40.9990672651173, 'longitude': -7...</td>\n",
       "      <td>[pickup, delivery]</td>\n",
       "      <td>{'address1': '506 Livingston St', 'address2': ...</td>\n",
       "      <td>+12017847405</td>\n",
       "      <td>(201) 784-7405</td>\n",
       "      <td>32822.843870</td>\n",
       "      <td>$$</td>\n",
       "    </tr>\n",
       "  </tbody>\n",
       "</table>\n",
       "</div>"
      ],
      "text/plain": [
       "                         id                         alias  \\\n",
       "995  6UbOi5oDDQUJAI9V2pv11w        akimoto-sushi-new-york   \n",
       "996  apIonqUbtLWLeZtzQ8FR8g           umi-kitchen-bayonne   \n",
       "997  eultmfyScNW-KoYI0-m9uw    wow-sushi-rockville-centre   \n",
       "998  skIF77R0hzf-a182aVk4gQ  geisha-asian-fusion-new-york   \n",
       "999  nsgnjPtxQTD2h-wPQWjuDA           asahi-sushi-norwood   \n",
       "\n",
       "                    name                                          image_url  \\\n",
       "995        Akimoto Sushi  https://s3-media3.fl.yelpcdn.com/bphoto/qPn2Ix...   \n",
       "996          Umi Kitchen  https://s3-media1.fl.yelpcdn.com/bphoto/Tnl04v...   \n",
       "997            Wow Sushi  https://s3-media1.fl.yelpcdn.com/bphoto/sXxnqV...   \n",
       "998  Geisha Asian Fusion  https://s3-media2.fl.yelpcdn.com/bphoto/qUKQ-o...   \n",
       "999          Asahi Sushi  https://s3-media4.fl.yelpcdn.com/bphoto/vMcUxS...   \n",
       "\n",
       "     is_closed                                                url  \\\n",
       "995      False  https://www.yelp.com/biz/akimoto-sushi-new-yor...   \n",
       "996      False  https://www.yelp.com/biz/umi-kitchen-bayonne?a...   \n",
       "997      False  https://www.yelp.com/biz/wow-sushi-rockville-c...   \n",
       "998      False  https://www.yelp.com/biz/geisha-asian-fusion-n...   \n",
       "999      False  https://www.yelp.com/biz/asahi-sushi-norwood?a...   \n",
       "\n",
       "     review_count                                         categories  rating  \\\n",
       "995           105        [{'alias': 'sushi', 'title': 'Sushi Bars'}]     2.5   \n",
       "996            25  [{'alias': 'chinese', 'title': 'Chinese'}, {'a...     4.5   \n",
       "997            46  [{'alias': 'seafoodmarkets', 'title': 'Seafood...     4.5   \n",
       "998            49  [{'alias': 'asianfusion', 'title': 'Asian Fusi...     4.0   \n",
       "999           126  [{'alias': 'japanese', 'title': 'Japanese'}, {...     4.0   \n",
       "\n",
       "                                           coordinates        transactions  \\\n",
       "995  {'latitude': 40.7156982, 'longitude': -74.0071...  [pickup, delivery]   \n",
       "996  {'latitude': 40.66901464160359, 'longitude': -...  [pickup, delivery]   \n",
       "997  {'latitude': 40.6607388, 'longitude': -73.6290...          [delivery]   \n",
       "998     {'latitude': 40.84799, 'longitude': -73.93765}  [pickup, delivery]   \n",
       "999  {'latitude': 40.9990672651173, 'longitude': -7...  [pickup, delivery]   \n",
       "\n",
       "                                              location         phone  \\\n",
       "995  {'address1': '187 Church St', 'address2': '', ...  +12127663350   \n",
       "996  {'address1': '639 Broadway', 'address2': 'Ste ...  +12014378888   \n",
       "997  {'address1': '201 N Long Beach Rd', 'address2'...  +15166785730   \n",
       "998  {'address1': '4186 Broadway', 'address2': None...  +12129271246   \n",
       "999  {'address1': '506 Livingston St', 'address2': ...  +12017847405   \n",
       "\n",
       "      display_phone      distance price  \n",
       "995  (212) 766-3350   1570.777813    $$  \n",
       "996  (201) 437-8888  10888.686737   NaN  \n",
       "997  (516) 678-5730  31210.651644    $$  \n",
       "998  (212) 927-1246  16550.191367   NaN  \n",
       "999  (201) 784-7405  32822.843870    $$  "
      ]
     },
     "metadata": {},
     "output_type": "display_data"
    }
   ],
   "source": [
    "# load final results\n",
    "final_df = pd.read_json(JSON_FILE)\n",
    "display(final_df.head(), final_df.tail())"
   ]
  },
  {
   "cell_type": "code",
   "execution_count": 17,
   "id": "6d4dcf15-1e5f-4c5c-9e65-88260ee4c2da",
   "metadata": {},
   "outputs": [],
   "source": [
    "# save the final results to a compressed csv\n",
    "final_df.to_csv('Data/final_results_NY_Sushi.csv.gz', compression='gzip',index=False)"
   ]
  },
  {
   "cell_type": "code",
   "execution_count": null,
   "id": "3bc53aec-d643-40b0-813b-2dd227ffe77d",
   "metadata": {},
   "outputs": [],
   "source": []
  }
 ],
 "metadata": {
  "kernelspec": {
   "display_name": "Python 3 (ipykernel)",
   "language": "python",
   "name": "python3"
  },
  "language_info": {
   "codemirror_mode": {
    "name": "ipython",
    "version": 3
   },
   "file_extension": ".py",
   "mimetype": "text/x-python",
   "name": "python",
   "nbconvert_exporter": "python",
   "pygments_lexer": "ipython3",
   "version": "3.10.10"
  },
  "widgets": {
   "application/vnd.jupyter.widget-state+json": {
    "state": {
     "1d2c68e20c9f47bb94a06056a5aa1878": {
      "model_module": "@jupyter-widgets/base",
      "model_module_version": "2.0.0",
      "model_name": "LayoutModel",
      "state": {}
     },
     "335a613208ac49f097b3ffa8a8760da3": {
      "model_module": "@jupyter-widgets/controls",
      "model_module_version": "2.0.0",
      "model_name": "ProgressStyleModel",
      "state": {
       "description_width": ""
      }
     },
     "3b29dfe3ae9f4646b7e6b22b2b44979f": {
      "model_module": "@jupyter-widgets/controls",
      "model_module_version": "2.0.0",
      "model_name": "HTMLModel",
      "state": {
       "layout": "IPY_MODEL_9b5c0cbcb7f54d029b774f6ea34da28d",
       "style": "IPY_MODEL_98b3c1ef1b2f449590aa41d237a03345",
       "value": " 24%"
      }
     },
     "8cc33e31806445ebb9434104c8914935": {
      "model_module": "@jupyter-widgets/controls",
      "model_module_version": "2.0.0",
      "model_name": "HBoxModel",
      "state": {
       "children": [
        "IPY_MODEL_3b29dfe3ae9f4646b7e6b22b2b44979f",
        "IPY_MODEL_b7270504a9ae492eacdce4fc349c77ac",
        "IPY_MODEL_b3cb630dd14540afa7f463eb6fb3b1cc"
       ],
       "layout": "IPY_MODEL_babce4feb91e4f778f71087827c5ead0"
      }
     },
     "98b3c1ef1b2f449590aa41d237a03345": {
      "model_module": "@jupyter-widgets/controls",
      "model_module_version": "2.0.0",
      "model_name": "HTMLStyleModel",
      "state": {
       "description_width": "",
       "font_size": null,
       "text_color": null
      }
     },
     "9b5c0cbcb7f54d029b774f6ea34da28d": {
      "model_module": "@jupyter-widgets/base",
      "model_module_version": "2.0.0",
      "model_name": "LayoutModel",
      "state": {}
     },
     "b3cb630dd14540afa7f463eb6fb3b1cc": {
      "model_module": "@jupyter-widgets/controls",
      "model_module_version": "2.0.0",
      "model_name": "HTMLModel",
      "state": {
       "layout": "IPY_MODEL_1d2c68e20c9f47bb94a06056a5aa1878",
       "style": "IPY_MODEL_b5bf55a743024689aa0a867454ff66f6",
       "value": " 50/210 [01:24&lt;06:46,  2.54s/it]"
      }
     },
     "b5bf55a743024689aa0a867454ff66f6": {
      "model_module": "@jupyter-widgets/controls",
      "model_module_version": "2.0.0",
      "model_name": "HTMLStyleModel",
      "state": {
       "description_width": "",
       "font_size": null,
       "text_color": null
      }
     },
     "b7270504a9ae492eacdce4fc349c77ac": {
      "model_module": "@jupyter-widgets/controls",
      "model_module_version": "2.0.0",
      "model_name": "FloatProgressModel",
      "state": {
       "bar_style": "danger",
       "layout": "IPY_MODEL_f08e5afe211644aa949da0e4095e7974",
       "max": 210,
       "style": "IPY_MODEL_335a613208ac49f097b3ffa8a8760da3",
       "value": 50
      }
     },
     "babce4feb91e4f778f71087827c5ead0": {
      "model_module": "@jupyter-widgets/base",
      "model_module_version": "2.0.0",
      "model_name": "LayoutModel",
      "state": {}
     },
     "f08e5afe211644aa949da0e4095e7974": {
      "model_module": "@jupyter-widgets/base",
      "model_module_version": "2.0.0",
      "model_name": "LayoutModel",
      "state": {}
     }
    },
    "version_major": 2,
    "version_minor": 0
   }
  }
 },
 "nbformat": 4,
 "nbformat_minor": 5
}
