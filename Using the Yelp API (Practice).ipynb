{
 "cells": [
  {
   "cell_type": "code",
   "execution_count": 3,
   "id": "51c6b54d-1d38-40a2-bda0-ff07cf931852",
   "metadata": {},
   "outputs": [],
   "source": [
    "from yelpapi import YelpAPI\n",
    "import json\n",
    "import pandas as pd"
   ]
  },
  {
   "cell_type": "code",
   "execution_count": 1,
   "id": "363a64ab-53da-48d8-b4c4-141b88dcb89f",
   "metadata": {},
   "outputs": [
    {
     "data": {
      "text/plain": [
       "dict_keys(['client-id', 'api-key'])"
      ]
     },
     "execution_count": 1,
     "metadata": {},
     "output_type": "execute_result"
    }
   ],
   "source": [
    "import json\n",
    "with open('C:/Users/Shaun/.secret/yelp_api.json') as f: \n",
    "    login = json.load(f)\n",
    "login.keys()"
   ]
  },
  {
   "cell_type": "code",
   "execution_count": 2,
   "id": "6bd0499d-da95-444d-b2d6-dc48d72f7c70",
   "metadata": {},
   "outputs": [
    {
     "data": {
      "text/plain": [
       "<yelpapi.yelpapi.YelpAPI at 0x145263eb1f0>"
      ]
     },
     "execution_count": 2,
     "metadata": {},
     "output_type": "execute_result"
    }
   ],
   "source": [
    "# import the YelpAPI Class\n",
    "from yelpapi import YelpAPI\n",
    "# Create an instance with your key\n",
    "yelp_api = YelpAPI(login['api-key'], timeout_s=5.0)\n",
    "yelp_api"
   ]
  },
  {
   "cell_type": "code",
   "execution_count": 4,
   "id": "904c2dd4-6eee-4801-92ce-993a047aea34",
   "metadata": {},
   "outputs": [
    {
     "name": "stdout",
     "output_type": "stream",
     "text": [
      "<class 'dict'>\n"
     ]
    },
    {
     "data": {
      "text/plain": [
       "dict_keys(['businesses', 'total', 'region'])"
      ]
     },
     "execution_count": 4,
     "metadata": {},
     "output_type": "execute_result"
    }
   ],
   "source": [
    "# use our yelp_api variable's search_query method to perform our API call\n",
    "search_results = yelp_api.search_query(location='NY, NY',\n",
    "                                       term='Sushi')\n",
    "print(type(search_results))\n",
    "search_results.keys()"
   ]
  },
  {
   "cell_type": "code",
   "execution_count": 5,
   "id": "e2c6ca07-eb86-4b79-b037-a1abc7d38162",
   "metadata": {},
   "outputs": [
    {
     "data": {
      "text/plain": [
       "4200"
      ]
     },
     "execution_count": 5,
     "metadata": {},
     "output_type": "execute_result"
    }
   ],
   "source": [
    "search_results['total']\n"
   ]
  },
  {
   "cell_type": "code",
   "execution_count": 6,
   "id": "700d2ee2-e95c-4dad-8541-c3a84be6dc94",
   "metadata": {},
   "outputs": [
    {
     "data": {
      "text/html": [
       "<div>\n",
       "<style scoped>\n",
       "    .dataframe tbody tr th:only-of-type {\n",
       "        vertical-align: middle;\n",
       "    }\n",
       "\n",
       "    .dataframe tbody tr th {\n",
       "        vertical-align: top;\n",
       "    }\n",
       "\n",
       "    .dataframe thead th {\n",
       "        text-align: right;\n",
       "    }\n",
       "</style>\n",
       "<table border=\"1\" class=\"dataframe\">\n",
       "  <thead>\n",
       "    <tr style=\"text-align: right;\">\n",
       "      <th></th>\n",
       "      <th>id</th>\n",
       "      <th>alias</th>\n",
       "      <th>name</th>\n",
       "      <th>image_url</th>\n",
       "      <th>is_closed</th>\n",
       "      <th>url</th>\n",
       "      <th>review_count</th>\n",
       "      <th>categories</th>\n",
       "      <th>rating</th>\n",
       "      <th>coordinates</th>\n",
       "      <th>transactions</th>\n",
       "      <th>location</th>\n",
       "      <th>phone</th>\n",
       "      <th>display_phone</th>\n",
       "      <th>distance</th>\n",
       "      <th>price</th>\n",
       "    </tr>\n",
       "  </thead>\n",
       "  <tbody>\n",
       "    <tr>\n",
       "      <th>0</th>\n",
       "      <td>k8YJDry6_pbPIiCPeK-6mQ</td>\n",
       "      <td>mikado-brooklyn</td>\n",
       "      <td>Mikado</td>\n",
       "      <td>https://s3-media2.fl.yelpcdn.com/bphoto/MNIqGY...</td>\n",
       "      <td>False</td>\n",
       "      <td>https://www.yelp.com/biz/mikado-brooklyn?adjus...</td>\n",
       "      <td>43</td>\n",
       "      <td>[{'alias': 'japanese', 'title': 'Japanese'}, {...</td>\n",
       "      <td>4.5</td>\n",
       "      <td>{'latitude': 40.69032888195518, 'longitude': -...</td>\n",
       "      <td>[pickup, delivery]</td>\n",
       "      <td>{'address1': '177 Atlantic Ave', 'address2': N...</td>\n",
       "      <td>+12123811388</td>\n",
       "      <td>(212) 381-1388</td>\n",
       "      <td>1681.307993</td>\n",
       "      <td>NaN</td>\n",
       "    </tr>\n",
       "    <tr>\n",
       "      <th>1</th>\n",
       "      <td>ZfuZ2byArGq-5j8zX8Afeg</td>\n",
       "      <td>zest-sushi-new-york-3</td>\n",
       "      <td>Zest Sushi</td>\n",
       "      <td>https://s3-media1.fl.yelpcdn.com/bphoto/298IMn...</td>\n",
       "      <td>False</td>\n",
       "      <td>https://www.yelp.com/biz/zest-sushi-new-york-3...</td>\n",
       "      <td>943</td>\n",
       "      <td>[{'alias': 'sushi', 'title': 'Sushi Bars'}, {'...</td>\n",
       "      <td>4.5</td>\n",
       "      <td>{'latitude': 40.7178344726563, 'longitude': -7...</td>\n",
       "      <td>[pickup, delivery]</td>\n",
       "      <td>{'address1': '249 Broome St', 'address2': '', ...</td>\n",
       "      <td>+12126773158</td>\n",
       "      <td>(212) 677-3158</td>\n",
       "      <td>1425.256670</td>\n",
       "      <td>$$</td>\n",
       "    </tr>\n",
       "  </tbody>\n",
       "</table>\n",
       "</div>"
      ],
      "text/plain": [
       "                       id                  alias        name  \\\n",
       "0  k8YJDry6_pbPIiCPeK-6mQ        mikado-brooklyn      Mikado   \n",
       "1  ZfuZ2byArGq-5j8zX8Afeg  zest-sushi-new-york-3  Zest Sushi   \n",
       "\n",
       "                                           image_url  is_closed  \\\n",
       "0  https://s3-media2.fl.yelpcdn.com/bphoto/MNIqGY...      False   \n",
       "1  https://s3-media1.fl.yelpcdn.com/bphoto/298IMn...      False   \n",
       "\n",
       "                                                 url  review_count  \\\n",
       "0  https://www.yelp.com/biz/mikado-brooklyn?adjus...            43   \n",
       "1  https://www.yelp.com/biz/zest-sushi-new-york-3...           943   \n",
       "\n",
       "                                          categories  rating  \\\n",
       "0  [{'alias': 'japanese', 'title': 'Japanese'}, {...     4.5   \n",
       "1  [{'alias': 'sushi', 'title': 'Sushi Bars'}, {'...     4.5   \n",
       "\n",
       "                                         coordinates        transactions  \\\n",
       "0  {'latitude': 40.69032888195518, 'longitude': -...  [pickup, delivery]   \n",
       "1  {'latitude': 40.7178344726563, 'longitude': -7...  [pickup, delivery]   \n",
       "\n",
       "                                            location         phone  \\\n",
       "0  {'address1': '177 Atlantic Ave', 'address2': N...  +12123811388   \n",
       "1  {'address1': '249 Broome St', 'address2': '', ...  +12126773158   \n",
       "\n",
       "    display_phone     distance price  \n",
       "0  (212) 381-1388  1681.307993   NaN  \n",
       "1  (212) 677-3158  1425.256670    $$  "
      ]
     },
     "execution_count": 6,
     "metadata": {},
     "output_type": "execute_result"
    }
   ],
   "source": [
    "biz = pd.DataFrame(search_results['businesses'])\n",
    "biz.head(2) "
   ]
  },
  {
   "cell_type": "code",
   "execution_count": 7,
   "id": "9a4dbe48-92f0-4e0b-86b0-18a8e825cb0b",
   "metadata": {},
   "outputs": [
    {
     "data": {
      "text/plain": [
       "20"
      ]
     },
     "execution_count": 7,
     "metadata": {},
     "output_type": "execute_result"
    }
   ],
   "source": [
    "len(search_results['businesses'])"
   ]
  },
  {
   "cell_type": "code",
   "execution_count": 8,
   "id": "a4feb4b1-8e2e-4a7e-b822-7e503d768a40",
   "metadata": {},
   "outputs": [],
   "source": [
    "# add offset to our original api call\n",
    "search_results = yelp_api.search_query(location='NY, NY',\n",
    "                                       term='Sushi',\n",
    "                                       offset = 20)"
   ]
  },
  {
   "cell_type": "code",
   "execution_count": 9,
   "id": "8ceda8cb-1fa4-40e6-bc8c-9b024d2f4d38",
   "metadata": {},
   "outputs": [
    {
     "data": {
      "text/html": [
       "<div>\n",
       "<style scoped>\n",
       "    .dataframe tbody tr th:only-of-type {\n",
       "        vertical-align: middle;\n",
       "    }\n",
       "\n",
       "    .dataframe tbody tr th {\n",
       "        vertical-align: top;\n",
       "    }\n",
       "\n",
       "    .dataframe thead th {\n",
       "        text-align: right;\n",
       "    }\n",
       "</style>\n",
       "<table border=\"1\" class=\"dataframe\">\n",
       "  <thead>\n",
       "    <tr style=\"text-align: right;\">\n",
       "      <th></th>\n",
       "      <th>id</th>\n",
       "      <th>alias</th>\n",
       "      <th>name</th>\n",
       "      <th>image_url</th>\n",
       "      <th>is_closed</th>\n",
       "      <th>url</th>\n",
       "      <th>review_count</th>\n",
       "      <th>categories</th>\n",
       "      <th>rating</th>\n",
       "      <th>coordinates</th>\n",
       "      <th>transactions</th>\n",
       "      <th>price</th>\n",
       "      <th>location</th>\n",
       "      <th>phone</th>\n",
       "      <th>display_phone</th>\n",
       "      <th>distance</th>\n",
       "    </tr>\n",
       "  </thead>\n",
       "  <tbody>\n",
       "    <tr>\n",
       "      <th>0</th>\n",
       "      <td>6lUsFj0KCao678o9L7QwUw</td>\n",
       "      <td>hatsuhana-new-york</td>\n",
       "      <td>Hatsuhana</td>\n",
       "      <td>https://s3-media2.fl.yelpcdn.com/bphoto/BgU4co...</td>\n",
       "      <td>False</td>\n",
       "      <td>https://www.yelp.com/biz/hatsuhana-new-york?ad...</td>\n",
       "      <td>1539</td>\n",
       "      <td>[{'alias': 'japanese', 'title': 'Japanese'}, {...</td>\n",
       "      <td>4.0</td>\n",
       "      <td>{'latitude': 40.75703, 'longitude': -73.97692}</td>\n",
       "      <td>[delivery, pickup, restaurant_reservation]</td>\n",
       "      <td>$$$</td>\n",
       "      <td>{'address1': '17 E 48th St', 'address2': '', '...</td>\n",
       "      <td>+12123553345</td>\n",
       "      <td>(212) 355-3345</td>\n",
       "      <td>5920.049431</td>\n",
       "    </tr>\n",
       "    <tr>\n",
       "      <th>1</th>\n",
       "      <td>MGRo61aHFUeRlWhSbTv2NA</td>\n",
       "      <td>sushi-by-m-new-york</td>\n",
       "      <td>Sushi By M</td>\n",
       "      <td>https://s3-media2.fl.yelpcdn.com/bphoto/YnguBn...</td>\n",
       "      <td>False</td>\n",
       "      <td>https://www.yelp.com/biz/sushi-by-m-new-york?a...</td>\n",
       "      <td>1117</td>\n",
       "      <td>[{'alias': 'sushi', 'title': 'Sushi Bars'}]</td>\n",
       "      <td>4.5</td>\n",
       "      <td>{'latitude': 40.72659, 'longitude': -73.98873}</td>\n",
       "      <td>[]</td>\n",
       "      <td>$$$$</td>\n",
       "      <td>{'address1': '300 E 5th St', 'address2': None,...</td>\n",
       "      <td>+13476888101</td>\n",
       "      <td>(347) 688-8101</td>\n",
       "      <td>2397.573824</td>\n",
       "    </tr>\n",
       "  </tbody>\n",
       "</table>\n",
       "</div>"
      ],
      "text/plain": [
       "                       id                alias        name  \\\n",
       "0  6lUsFj0KCao678o9L7QwUw   hatsuhana-new-york   Hatsuhana   \n",
       "1  MGRo61aHFUeRlWhSbTv2NA  sushi-by-m-new-york  Sushi By M   \n",
       "\n",
       "                                           image_url  is_closed  \\\n",
       "0  https://s3-media2.fl.yelpcdn.com/bphoto/BgU4co...      False   \n",
       "1  https://s3-media2.fl.yelpcdn.com/bphoto/YnguBn...      False   \n",
       "\n",
       "                                                 url  review_count  \\\n",
       "0  https://www.yelp.com/biz/hatsuhana-new-york?ad...          1539   \n",
       "1  https://www.yelp.com/biz/sushi-by-m-new-york?a...          1117   \n",
       "\n",
       "                                          categories  rating  \\\n",
       "0  [{'alias': 'japanese', 'title': 'Japanese'}, {...     4.0   \n",
       "1        [{'alias': 'sushi', 'title': 'Sushi Bars'}]     4.5   \n",
       "\n",
       "                                      coordinates  \\\n",
       "0  {'latitude': 40.75703, 'longitude': -73.97692}   \n",
       "1  {'latitude': 40.72659, 'longitude': -73.98873}   \n",
       "\n",
       "                                 transactions price  \\\n",
       "0  [delivery, pickup, restaurant_reservation]   $$$   \n",
       "1                                          []  $$$$   \n",
       "\n",
       "                                            location         phone  \\\n",
       "0  {'address1': '17 E 48th St', 'address2': '', '...  +12123553345   \n",
       "1  {'address1': '300 E 5th St', 'address2': None,...  +13476888101   \n",
       "\n",
       "    display_phone     distance  \n",
       "0  (212) 355-3345  5920.049431  \n",
       "1  (347) 688-8101  2397.573824  "
      ]
     },
     "execution_count": 9,
     "metadata": {},
     "output_type": "execute_result"
    }
   ],
   "source": [
    "biz20 = pd.DataFrame(search_results['businesses'])\n",
    "biz20.head(2)"
   ]
  },
  {
   "cell_type": "code",
   "execution_count": 10,
   "id": "f028a1a0-9937-4b1a-9c87-a317c4878acc",
   "metadata": {},
   "outputs": [
    {
     "data": {
      "text/html": [
       "<div>\n",
       "<style scoped>\n",
       "    .dataframe tbody tr th:only-of-type {\n",
       "        vertical-align: middle;\n",
       "    }\n",
       "\n",
       "    .dataframe tbody tr th {\n",
       "        vertical-align: top;\n",
       "    }\n",
       "\n",
       "    .dataframe thead th {\n",
       "        text-align: right;\n",
       "    }\n",
       "</style>\n",
       "<table border=\"1\" class=\"dataframe\">\n",
       "  <thead>\n",
       "    <tr style=\"text-align: right;\">\n",
       "      <th></th>\n",
       "      <th>id</th>\n",
       "      <th>alias</th>\n",
       "      <th>name</th>\n",
       "      <th>image_url</th>\n",
       "      <th>is_closed</th>\n",
       "      <th>url</th>\n",
       "      <th>review_count</th>\n",
       "      <th>categories</th>\n",
       "      <th>rating</th>\n",
       "      <th>coordinates</th>\n",
       "      <th>transactions</th>\n",
       "      <th>location</th>\n",
       "      <th>phone</th>\n",
       "      <th>display_phone</th>\n",
       "      <th>distance</th>\n",
       "      <th>price</th>\n",
       "    </tr>\n",
       "  </thead>\n",
       "  <tbody>\n",
       "    <tr>\n",
       "      <th>0</th>\n",
       "      <td>k8YJDry6_pbPIiCPeK-6mQ</td>\n",
       "      <td>mikado-brooklyn</td>\n",
       "      <td>Mikado</td>\n",
       "      <td>https://s3-media2.fl.yelpcdn.com/bphoto/MNIqGY...</td>\n",
       "      <td>False</td>\n",
       "      <td>https://www.yelp.com/biz/mikado-brooklyn?adjus...</td>\n",
       "      <td>43</td>\n",
       "      <td>[{'alias': 'japanese', 'title': 'Japanese'}, {...</td>\n",
       "      <td>4.5</td>\n",
       "      <td>{'latitude': 40.69032888195518, 'longitude': -...</td>\n",
       "      <td>[pickup, delivery]</td>\n",
       "      <td>{'address1': '177 Atlantic Ave', 'address2': N...</td>\n",
       "      <td>+12123811388</td>\n",
       "      <td>(212) 381-1388</td>\n",
       "      <td>1681.307993</td>\n",
       "      <td>NaN</td>\n",
       "    </tr>\n",
       "    <tr>\n",
       "      <th>1</th>\n",
       "      <td>ZfuZ2byArGq-5j8zX8Afeg</td>\n",
       "      <td>zest-sushi-new-york-3</td>\n",
       "      <td>Zest Sushi</td>\n",
       "      <td>https://s3-media1.fl.yelpcdn.com/bphoto/298IMn...</td>\n",
       "      <td>False</td>\n",
       "      <td>https://www.yelp.com/biz/zest-sushi-new-york-3...</td>\n",
       "      <td>943</td>\n",
       "      <td>[{'alias': 'sushi', 'title': 'Sushi Bars'}, {'...</td>\n",
       "      <td>4.5</td>\n",
       "      <td>{'latitude': 40.7178344726563, 'longitude': -7...</td>\n",
       "      <td>[pickup, delivery]</td>\n",
       "      <td>{'address1': '249 Broome St', 'address2': '', ...</td>\n",
       "      <td>+12126773158</td>\n",
       "      <td>(212) 677-3158</td>\n",
       "      <td>1425.256670</td>\n",
       "      <td>$$</td>\n",
       "    </tr>\n",
       "    <tr>\n",
       "      <th>2</th>\n",
       "      <td>W0YGwDTYRjUCBgtpqHXSAg</td>\n",
       "      <td>iwak-brooklyn</td>\n",
       "      <td>IWak</td>\n",
       "      <td>https://s3-media1.fl.yelpcdn.com/bphoto/JesScm...</td>\n",
       "      <td>False</td>\n",
       "      <td>https://www.yelp.com/biz/iwak-brooklyn?adjust_...</td>\n",
       "      <td>69</td>\n",
       "      <td>[{'alias': 'sushi', 'title': 'Sushi Bars'}]</td>\n",
       "      <td>5.0</td>\n",
       "      <td>{'latitude': 40.71244591155105, 'longitude': -...</td>\n",
       "      <td>[pickup, delivery]</td>\n",
       "      <td>{'address1': '340 Grand St', 'address2': None,...</td>\n",
       "      <td>+19299924925</td>\n",
       "      <td>(929) 992-4925</td>\n",
       "      <td>3301.811149</td>\n",
       "      <td>NaN</td>\n",
       "    </tr>\n",
       "  </tbody>\n",
       "</table>\n",
       "</div>"
      ],
      "text/plain": [
       "                       id                  alias        name  \\\n",
       "0  k8YJDry6_pbPIiCPeK-6mQ        mikado-brooklyn      Mikado   \n",
       "1  ZfuZ2byArGq-5j8zX8Afeg  zest-sushi-new-york-3  Zest Sushi   \n",
       "2  W0YGwDTYRjUCBgtpqHXSAg          iwak-brooklyn        IWak   \n",
       "\n",
       "                                           image_url  is_closed  \\\n",
       "0  https://s3-media2.fl.yelpcdn.com/bphoto/MNIqGY...      False   \n",
       "1  https://s3-media1.fl.yelpcdn.com/bphoto/298IMn...      False   \n",
       "2  https://s3-media1.fl.yelpcdn.com/bphoto/JesScm...      False   \n",
       "\n",
       "                                                 url  review_count  \\\n",
       "0  https://www.yelp.com/biz/mikado-brooklyn?adjus...            43   \n",
       "1  https://www.yelp.com/biz/zest-sushi-new-york-3...           943   \n",
       "2  https://www.yelp.com/biz/iwak-brooklyn?adjust_...            69   \n",
       "\n",
       "                                          categories  rating  \\\n",
       "0  [{'alias': 'japanese', 'title': 'Japanese'}, {...     4.5   \n",
       "1  [{'alias': 'sushi', 'title': 'Sushi Bars'}, {'...     4.5   \n",
       "2        [{'alias': 'sushi', 'title': 'Sushi Bars'}]     5.0   \n",
       "\n",
       "                                         coordinates        transactions  \\\n",
       "0  {'latitude': 40.69032888195518, 'longitude': -...  [pickup, delivery]   \n",
       "1  {'latitude': 40.7178344726563, 'longitude': -7...  [pickup, delivery]   \n",
       "2  {'latitude': 40.71244591155105, 'longitude': -...  [pickup, delivery]   \n",
       "\n",
       "                                            location         phone  \\\n",
       "0  {'address1': '177 Atlantic Ave', 'address2': N...  +12123811388   \n",
       "1  {'address1': '249 Broome St', 'address2': '', ...  +12126773158   \n",
       "2  {'address1': '340 Grand St', 'address2': None,...  +19299924925   \n",
       "\n",
       "    display_phone     distance price  \n",
       "0  (212) 381-1388  1681.307993   NaN  \n",
       "1  (212) 677-3158  1425.256670    $$  \n",
       "2  (929) 992-4925  3301.811149   NaN  "
      ]
     },
     "metadata": {},
     "output_type": "display_data"
    },
    {
     "data": {
      "text/html": [
       "<div>\n",
       "<style scoped>\n",
       "    .dataframe tbody tr th:only-of-type {\n",
       "        vertical-align: middle;\n",
       "    }\n",
       "\n",
       "    .dataframe tbody tr th {\n",
       "        vertical-align: top;\n",
       "    }\n",
       "\n",
       "    .dataframe thead th {\n",
       "        text-align: right;\n",
       "    }\n",
       "</style>\n",
       "<table border=\"1\" class=\"dataframe\">\n",
       "  <thead>\n",
       "    <tr style=\"text-align: right;\">\n",
       "      <th></th>\n",
       "      <th>id</th>\n",
       "      <th>alias</th>\n",
       "      <th>name</th>\n",
       "      <th>image_url</th>\n",
       "      <th>is_closed</th>\n",
       "      <th>url</th>\n",
       "      <th>review_count</th>\n",
       "      <th>categories</th>\n",
       "      <th>rating</th>\n",
       "      <th>coordinates</th>\n",
       "      <th>transactions</th>\n",
       "      <th>location</th>\n",
       "      <th>phone</th>\n",
       "      <th>display_phone</th>\n",
       "      <th>distance</th>\n",
       "      <th>price</th>\n",
       "    </tr>\n",
       "  </thead>\n",
       "  <tbody>\n",
       "    <tr>\n",
       "      <th>37</th>\n",
       "      <td>T2fE7hGS83Ba-QNCOqbK4A</td>\n",
       "      <td>ako-brooklyn-5</td>\n",
       "      <td>Ako</td>\n",
       "      <td>https://s3-media3.fl.yelpcdn.com/bphoto/9T8kJI...</td>\n",
       "      <td>False</td>\n",
       "      <td>https://www.yelp.com/biz/ako-brooklyn-5?adjust...</td>\n",
       "      <td>500</td>\n",
       "      <td>[{'alias': 'sushi', 'title': 'Sushi Bars'}, {'...</td>\n",
       "      <td>4.0</td>\n",
       "      <td>{'latitude': 40.7168599, 'longitude': -73.95845}</td>\n",
       "      <td>[delivery, pickup]</td>\n",
       "      <td>{'address1': '205 Bedford Ave', 'address2': ''...</td>\n",
       "      <td>+17183022035</td>\n",
       "      <td>(718) 302-2035</td>\n",
       "      <td>3275.340513</td>\n",
       "      <td>$$</td>\n",
       "    </tr>\n",
       "    <tr>\n",
       "      <th>38</th>\n",
       "      <td>KxOAVoyJ55G-gEQqhnBpAQ</td>\n",
       "      <td>daigo-handroll-bar-brooklyn</td>\n",
       "      <td>Daigo Handroll Bar</td>\n",
       "      <td>https://s3-media3.fl.yelpcdn.com/bphoto/T2P57x...</td>\n",
       "      <td>False</td>\n",
       "      <td>https://www.yelp.com/biz/daigo-handroll-bar-br...</td>\n",
       "      <td>131</td>\n",
       "      <td>[{'alias': 'sushi', 'title': 'Sushi Bars'}]</td>\n",
       "      <td>4.5</td>\n",
       "      <td>{'latitude': 40.690884, 'longitude': -73.982863}</td>\n",
       "      <td>[delivery, pickup]</td>\n",
       "      <td>{'address1': '445 Albee Sq', 'address2': None,...</td>\n",
       "      <td></td>\n",
       "      <td></td>\n",
       "      <td>1884.140648</td>\n",
       "      <td>$$</td>\n",
       "    </tr>\n",
       "    <tr>\n",
       "      <th>39</th>\n",
       "      <td>GuPAGPMXUHw4ntkEAA-tow</td>\n",
       "      <td>domo-sushi-new-york</td>\n",
       "      <td>Domo Sushi</td>\n",
       "      <td>https://s3-media3.fl.yelpcdn.com/bphoto/PEri9E...</td>\n",
       "      <td>False</td>\n",
       "      <td>https://www.yelp.com/biz/domo-sushi-new-york?a...</td>\n",
       "      <td>51</td>\n",
       "      <td>[{'alias': 'sushi', 'title': 'Sushi Bars'}]</td>\n",
       "      <td>4.5</td>\n",
       "      <td>{'latitude': 40.71718, 'longitude': -73.99742}</td>\n",
       "      <td>[delivery, pickup]</td>\n",
       "      <td>{'address1': '98 Mott St', 'address2': None, '...</td>\n",
       "      <td>+16464768177</td>\n",
       "      <td>(646) 476-8177</td>\n",
       "      <td>1328.237828</td>\n",
       "      <td>$$$$</td>\n",
       "    </tr>\n",
       "  </tbody>\n",
       "</table>\n",
       "</div>"
      ],
      "text/plain": [
       "                        id                        alias                name  \\\n",
       "37  T2fE7hGS83Ba-QNCOqbK4A               ako-brooklyn-5                 Ako   \n",
       "38  KxOAVoyJ55G-gEQqhnBpAQ  daigo-handroll-bar-brooklyn  Daigo Handroll Bar   \n",
       "39  GuPAGPMXUHw4ntkEAA-tow          domo-sushi-new-york          Domo Sushi   \n",
       "\n",
       "                                            image_url  is_closed  \\\n",
       "37  https://s3-media3.fl.yelpcdn.com/bphoto/9T8kJI...      False   \n",
       "38  https://s3-media3.fl.yelpcdn.com/bphoto/T2P57x...      False   \n",
       "39  https://s3-media3.fl.yelpcdn.com/bphoto/PEri9E...      False   \n",
       "\n",
       "                                                  url  review_count  \\\n",
       "37  https://www.yelp.com/biz/ako-brooklyn-5?adjust...           500   \n",
       "38  https://www.yelp.com/biz/daigo-handroll-bar-br...           131   \n",
       "39  https://www.yelp.com/biz/domo-sushi-new-york?a...            51   \n",
       "\n",
       "                                           categories  rating  \\\n",
       "37  [{'alias': 'sushi', 'title': 'Sushi Bars'}, {'...     4.0   \n",
       "38        [{'alias': 'sushi', 'title': 'Sushi Bars'}]     4.5   \n",
       "39        [{'alias': 'sushi', 'title': 'Sushi Bars'}]     4.5   \n",
       "\n",
       "                                         coordinates        transactions  \\\n",
       "37  {'latitude': 40.7168599, 'longitude': -73.95845}  [delivery, pickup]   \n",
       "38  {'latitude': 40.690884, 'longitude': -73.982863}  [delivery, pickup]   \n",
       "39    {'latitude': 40.71718, 'longitude': -73.99742}  [delivery, pickup]   \n",
       "\n",
       "                                             location         phone  \\\n",
       "37  {'address1': '205 Bedford Ave', 'address2': ''...  +17183022035   \n",
       "38  {'address1': '445 Albee Sq', 'address2': None,...                 \n",
       "39  {'address1': '98 Mott St', 'address2': None, '...  +16464768177   \n",
       "\n",
       "     display_phone     distance price  \n",
       "37  (718) 302-2035  3275.340513    $$  \n",
       "38                  1884.140648    $$  \n",
       "39  (646) 476-8177  1328.237828  $$$$  "
      ]
     },
     "metadata": {},
     "output_type": "display_data"
    }
   ],
   "source": [
    "## concatenate the previous results and new results. \n",
    "businesses = pd.concat([biz, biz20],\n",
    "                      ignore_index=True)\n",
    "display(businesses.head(3), businesses.tail(3))\n"
   ]
  },
  {
   "cell_type": "code",
   "execution_count": 12,
   "id": "eeb52c65-560e-4efe-bea5-ac5ddd87a153",
   "metadata": {},
   "outputs": [
    {
     "data": {
      "text/plain": [
       "'[{\"id\":\"k8YJDry6_pbPIiCPeK-6mQ\",\"alias\":\"mikado-brooklyn\",\"name\":\"Mikado\",\"image_url\":\"https:\\\\/\\\\/s3-media2.fl.yelpcdn.com\\\\/bphoto\\\\/MNIqGYuoC8okzgk4F6_ZZQ\\\\/o.jpg\",\"is_closed\":false,\"url\":\"https:\\\\/\\\\/www.yelp.com\\\\/biz\\\\/mikado-brooklyn?adjust_creative=_KkUE2bw4G90-gcuDs4aHw&utm_campaign=yelp_api_v3&utm_medium=api_v3_business_search&utm_source=_KkUE2bw4G90-gcuDs4aHw\",\"review_count\":43,\"categories\":[{\"alias\":\"japanese\",\"title\":\"Japanese\"},{\"alias\":\"sushi\",\"title\":\"Sushi Bars\"},{\"alias\":\"soup\",\"title\":\"Soup\"}],\"rating\":4.5,\"coordinates\":{\"latitude\":40.690328882,\"longitude\":-73.9938121},\"transactions\":[\"pickup\",\"delivery\"],\"location\":{\"address1\":\"177 Atlantic Ave\",\"address2\":null,\"address3\":\"\",\"city\":\"Brooklyn\",\"zip_code\":\"11201\",\"country\":\"US\",\"state\":\"NY\",\"display_address\":[\"177 Atlantic Ave\",\"Brooklyn, NY 11201\"]},\"phone\":\"+12123811388\",\"display_phone\":\"(212) 381-1388\",\"distance\":1681.3079927848,\"price\":null},{\"id\":\"ZfuZ2byArGq-5j8zX8Afeg\",\"alias\":\"zest-sushi-new-york-3\",\"name\":\"Zest Sushi\",\"image_url\":\"https:\\\\/\\\\/s3-media1.fl.yelpcdn.com\\\\/bphoto\\\\/298IMnphPVeb3FVBLcqPRQ\\\\/o.jpg\",\"is_closed\":false,\"url\":\"https:\\\\/\\\\/www.yelp.com\\\\/biz\\\\/zest-sushi-new-york-3?adjust_creative=_KkUE2bw4G90-gcuDs4aHw&utm_campaign=yelp_api_v3&utm_medium=api_v3_business_search&utm_source=_KkUE2bw4G90-gcuDs4aHw\",\"review_count\":943,\"categories\":[{\"alias\":\"sushi\",\"title\":\"Sushi Bars\"},{\"alias\":\"japanese\",\"title\":\"Japanese\"},{\"alias\":\"thai\",\"title\":\"Thai\"}],\"rating\":4.5,\"coordinates\":{\"latitude\":40.7178344727,\"longitude\":-73.9899597168},\"transactions\":[\"pickup\",\"delivery\"],\"location\":{\"address1\":\"249 Broome St\",\"address2\":\"\",\"address3\":\"\",\"city\":\"New York\",\"zip_code\":\"10002\",\"country\":\"US\",\"state\":\"NY\",\"display_address\":[\"249 Broome St\",\"New York, NY 10002\"]},\"phone\":\"+12126773158\",\"display_phone\":\"(212) 677-3158\",\"distance\":1425.2566698018,\"price\":\"$$\"},{\"id\":\"W0YGwDTYRjUCBgtpqHXSAg\",\"alias\":\"iwak-brooklyn\",\"name\":\"IWak\",\"image_url\":\"https:\\\\/\\\\/s3-media1.fl.yelpcdn.com\\\\/bphoto\\\\/JesScm4DuPkRvpUZyJhkSA\\\\/o.jpg\",\"is_closed\":false,\"url\":\"https:\\\\/\\\\/www.yelp.com\\\\/biz\\\\/iwak-brooklyn?adjust_creative=_KkUE2bw4G90-gcuDs4aHw&utm_campaign=yelp_api_v3&utm_medium=api_v3_business_search&utm_source=_KkUE2bw4G90-gcuDs4aHw\",\"review_count\":69,\"categories\":[{\"alias\":\"sushi\",\"title\":\"Sushi Bars\"}],\"rating\":5.0,\"coordinates\":{\"latitude\":40.7124459116,\"longitude\":-73.9562251852},\"transactions\":[\"pickup\",\"delivery\"],\"location\":{\"address1\":\"340 Grand St\",\"address2\":null,\"address3\":\"\",\"city\":\"Brooklyn\",\"zip_code\":\"11211\",\"country\":\"US\",\"state\":\"NY\",\"display_address\":[\"340 Grand St\",\"Brooklyn, NY 11211\"]},\"phone\":\"+19299924925\",\"display_phone\":\"(929) 992-4925\",\"distance\":3301.8111491119,\"price\":null},{\"id\":\"KrJ6m_TkxBAPPSNH-G7rvQ\",\"alias\":\"u-gu-brooklyn-4\",\"name\":\"U-gu\",\"image_url\":\"https:\\\\/\\\\/s3-media3.fl.yelpcdn.com\\\\/bphoto\\\\/xi4Z31T5IZx1qSgInM08pg\\\\/o.jpg\",\"is_closed\":false,\"url\":\"https:\\\\/\\\\/www.yelp.com\\\\/biz\\\\/u-gu-brooklyn-4?adjust_creative=_KkUE2bw4G90-gcuDs4aHw&utm_campaign=yelp_api_v3&utm_medium=api_v3_business_search&utm_source=_KkUE2bw4G90-gcuDs4aHw\",\"review_count\":191,\"categories\":[{\"alias\":\"sushi\",\"title\":\"Sushi Bars\"},{\"alias\":\"japanese\",\"title\":\"Japanese\"}],\"rating\":4.5,\"coordinates\":{\"latitude\":40.69393,\"longitude\":-73.96284},\"transactions\":[\"pickup\",\"delivery\"],\"location\":{\"address1\":\"541 Myrtle Ave\",\"address2\":\"Ste B\",\"address3\":null,\"city\":\"Brooklyn\",\"zip_code\":\"11205\",\"country\":\"US\",\"state\":\"NY\",\"display_address\":[\"541 Myrtle Ave\",\"Ste B\",\"Brooklyn, NY 11205\"]},\"phone\":\"+17188570222\",\"display_phone\":\"(718) 857-0222\",\"distance\":2946.8256515687,\"price\":\"$$\"},{\"id\":\"PjjpgjY_sdawJU1JHbyNTQ\",\"alias\":\"temakase-new-york-4\",\"name\":\"Temakase\",\"image_url\":\"https:\\\\/\\\\/s3-media2.fl.yelpcdn.com\\\\/bphoto\\\\/uAoOfIQLT6cDGNGbSNCmJw\\\\/o.jpg\",\"is_closed\":false,\"url\":\"https:\\\\/\\\\/www.yelp.com\\\\/biz\\\\/temakase-new-york-4?adjust_creative=_KkUE2bw4G90-gcuDs4aHw&utm_campaign=yelp_api_v3&utm_medium=api_v3_business_search&utm_source=_KkUE2bw4G90-gcuDs4aHw\",\"review_count\":684,\"categories\":[{\"alias\":\"sushi\",\"title\":\"Sushi Bars\"}],\"rating\":4.5,\"coordinates\":{\"latitude\":40.729711,\"longitude\":-73.987127},\"transactions\":[\"pickup\",\"delivery\"],\"location\":{\"address1\":\"157 Second Ave\",\"address2\":null,\"address3\":\"\",\"city\":\"New York\",\"zip_code\":\"10003\",\"country\":\"US\",\"state\":\"NY\",\"display_address\":[\"157 Second Ave\",\"New York, NY 10003\"]},\"phone\":\"+12123811456\",\"display_phone\":\"(212) 381-1456\",\"distance\":2766.7917551652,\"price\":null},{\"id\":\"AudBWxeAr3zHr1ITrTcVpg\",\"alias\":\"izakaya-fuku-jackson-heights\",\"name\":\"Izakaya Fuku\",\"image_url\":\"https:\\\\/\\\\/s3-media1.fl.yelpcdn.com\\\\/bphoto\\\\/mVURSCqR6QzJWZmi2CoWbQ\\\\/o.jpg\",\"is_closed\":false,\"url\":\"https:\\\\/\\\\/www.yelp.com\\\\/biz\\\\/izakaya-fuku-jackson-heights?adjust_creative=_KkUE2bw4G90-gcuDs4aHw&utm_campaign=yelp_api_v3&utm_medium=api_v3_business_search&utm_source=_KkUE2bw4G90-gcuDs4aHw\",\"review_count\":299,\"categories\":[{\"alias\":\"japanese\",\"title\":\"Japanese\"}],\"rating\":4.5,\"coordinates\":{\"latitude\":40.74635,\"longitude\":-73.89383},\"transactions\":[\"pickup\",\"restaurant_reservation\",\"delivery\"],\"location\":{\"address1\":\"71-28 Roosevelt Ave\",\"address2\":null,\"address3\":\"\",\"city\":\"Jackson Heights\",\"zip_code\":\"11372\",\"country\":\"US\",\"state\":\"NY\",\"display_address\":[\"71-28 Roosevelt Ave\",\"Jackson Heights, NY 11372\"]},\"phone\":\"+17182551120\",\"display_phone\":\"(718) 255-1120\",\"distance\":9608.7000434091,\"price\":\"$$\"},{\"id\":\"skL_mmJRGkLTrdYhy3rnlg\",\"alias\":\"sushi-hatsune-new-york-3\",\"name\":\"Sushi Hatsune\",\"image_url\":\"https:\\\\/\\\\/s3-media1.fl.yelpcdn.com\\\\/bphoto\\\\/pTzwEBKctyvWQckYr-mR0g\\\\/o.jpg\",\"is_closed\":false,\"url\":\"https:\\\\/\\\\/www.yelp.com\\\\/biz\\\\/sushi-hatsune-new-york-3?adjust_creative=_KkUE2bw4G90-gcuDs4aHw&utm_campaign=yelp_api_v3&utm_medium=api_v3_business_search&utm_source=_KkUE2bw4G90-gcuDs4aHw\",\"review_count\":60,\"categories\":[{\"alias\":\"sushi\",\"title\":\"Sushi Bars\"},{\"alias\":\"japanese\",\"title\":\"Japanese\"},{\"alias\":\"salad\",\"title\":\"Salad\"}],\"rating\":4.5,\"coordinates\":{\"latitude\":40.7159953206,\"longitude\":-73.9927898729},\"transactions\":[\"pickup\",\"delivery\"],\"location\":{\"address1\":\"50 Eldridge St\",\"address2\":null,\"address3\":\"\",\"city\":\"New York\",\"zip_code\":\"10002\",\"country\":\"US\",\"state\":\"NY\",\"display_address\":[\"50 Eldridge St\",\"New York, NY 10002\"]},\"phone\":\"\",\"display_phone\":\"\",\"distance\":1179.979109247,\"price\":null},{\"id\":\"3OKf1QQnDhjkBKVg0eMllQ\",\"alias\":\"sushi-gallery-brooklyn\",\"name\":\"Sushi Gallery\",\"image_url\":\"https:\\\\/\\\\/s3-media3.fl.yelpcdn.com\\\\/bphoto\\\\/S0JsEO9Dif-FtI4KLZqpCQ\\\\/o.jpg\",\"is_closed\":false,\"url\":\"https:\\\\/\\\\/www.yelp.com\\\\/biz\\\\/sushi-gallery-brooklyn?adjust_creative=_KkUE2bw4G90-gcuDs4aHw&utm_campaign=yelp_api_v3&utm_medium=api_v3_business_search&utm_source=_KkUE2bw4G90-gcuDs4aHw\",\"review_count\":149,\"categories\":[{\"alias\":\"sushi\",\"title\":\"Sushi Bars\"}],\"rating\":4.5,\"coordinates\":{\"latitude\":40.6975970682,\"longitude\":-73.9933660829},\"transactions\":[\"delivery\"],\"location\":{\"address1\":\"71 Clark St\",\"address2\":\"\",\"address3\":\"\",\"city\":\"Brooklyn\",\"zip_code\":\"11201\",\"country\":\"US\",\"state\":\"NY\",\"display_address\":[\"71 Clark St\",\"Brooklyn, NY 11201\"]},\"phone\":\"+17182220308\",\"display_phone\":\"(718) 222-0308\",\"distance\":870.9310303109,\"price\":\"$$\"},{\"id\":\"U7gqQHSRFNYCad3qGLj3yQ\",\"alias\":\"umami-sushi-new-york\",\"name\":\"Umami Sushi\",\"image_url\":\"https:\\\\/\\\\/s3-media1.fl.yelpcdn.com\\\\/bphoto\\\\/0jXFvza63DTGlUBIcP0hdg\\\\/o.jpg\",\"is_closed\":false,\"url\":\"https:\\\\/\\\\/www.yelp.com\\\\/biz\\\\/umami-sushi-new-york?adjust_creative=_KkUE2bw4G90-gcuDs4aHw&utm_campaign=yelp_api_v3&utm_medium=api_v3_business_search&utm_source=_KkUE2bw4G90-gcuDs4aHw\",\"review_count\":233,\"categories\":[{\"alias\":\"sushi\",\"title\":\"Sushi Bars\"},{\"alias\":\"japanese\",\"title\":\"Japanese\"}],\"rating\":4.5,\"coordinates\":{\"latitude\":40.73571,\"longitude\":-74.00044},\"transactions\":[\"pickup\",\"delivery\"],\"location\":{\"address1\":\"50 Greenwich Ave\",\"address2\":\"\",\"address3\":null,\"city\":\"New York\",\"zip_code\":\"10011\",\"country\":\"US\",\"state\":\"NY\",\"display_address\":[\"50 Greenwich Ave\",\"New York, NY 10011\"]},\"phone\":\"+16467564278\",\"display_phone\":\"(646) 756-4278\",\"distance\":3405.9136531953,\"price\":\"$$\"},{\"id\":\"fj8rRvhQu8nMpQFhogFuYA\",\"alias\":\"kura-revolving-sushi-bar-flushing\",\"name\":\"Kura Revolving Sushi Bar\",\"image_url\":\"https:\\\\/\\\\/s3-media2.fl.yelpcdn.com\\\\/bphoto\\\\/OlyM2Dr9W3UspI99huaA-w\\\\/o.jpg\",\"is_closed\":false,\"url\":\"https:\\\\/\\\\/www.yelp.com\\\\/biz\\\\/kura-revolving-sushi-bar-flushing?adjust_creative=_KkUE2bw4G90-gcuDs4aHw&utm_campaign=yelp_api_v3&utm_medium=api_v3_business_search&utm_source=_KkUE2bw4G90-gcuDs4aHw\",\"review_count\":36,\"categories\":[{\"alias\":\"conveyorsushi\",\"title\":\"Conveyor Belt Sushi\"},{\"alias\":\"sushi\",\"title\":\"Sushi Bars\"}],\"rating\":4.0,\"coordinates\":{\"latitude\":40.76046,\"longitude\":-73.83369},\"transactions\":[],\"location\":{\"address1\":\"133-36 37th Ave\",\"address2\":\"Ste G15\",\"address3\":null,\"city\":\"Flushing\",\"zip_code\":\"11354\",\"country\":\"US\",\"state\":\"NY\",\"display_address\":[\"133-36 37th Ave\",\"Ste G15\",\"Flushing, NY 11354\"]},\"phone\":\"+19292647770\",\"display_phone\":\"(929) 264-7770\",\"distance\":14857.573824029,\"price\":null},{\"id\":\"pqqhHTz_ZpApsaWGa_zMTA\",\"alias\":\"douska-new-york\",\"name\":\"Douska\",\"image_url\":\"https:\\\\/\\\\/s3-media1.fl.yelpcdn.com\\\\/bphoto\\\\/SzeTe8Y7JENn1gNaSonRzA\\\\/o.jpg\",\"is_closed\":false,\"url\":\"https:\\\\/\\\\/www.yelp.com\\\\/biz\\\\/douska-new-york?adjust_creative=_KkUE2bw4G90-gcuDs4aHw&utm_campaign=yelp_api_v3&utm_medium=api_v3_business_search&utm_source=_KkUE2bw4G90-gcuDs4aHw\",\"review_count\":217,\"categories\":[{\"alias\":\"sushi\",\"title\":\"Sushi Bars\"},{\"alias\":\"japanese\",\"title\":\"Japanese\"}],\"rating\":4.5,\"coordinates\":{\"latitude\":40.7191369,\"longitude\":-73.9908998},\"transactions\":[],\"location\":{\"address1\":\"63 Delancey St\",\"address2\":\"\",\"address3\":null,\"city\":\"New York\",\"zip_code\":\"10002\",\"country\":\"US\",\"state\":\"NY\",\"display_address\":[\"63 Delancey St\",\"New York, NY 10002\"]},\"phone\":\"+16466570908\",\"display_phone\":\"(646) 657-0908\",\"distance\":1544.6963982813,\"price\":null},{\"id\":\"FlZ1zdVEKWv7dwqm8Uw8-w\",\"alias\":\"raku-new-york-7\",\"name\":\"Raku\",\"image_url\":\"https:\\\\/\\\\/s3-media4.fl.yelpcdn.com\\\\/bphoto\\\\/GEbZnH1jR4n7D5WOJ3urPg\\\\/o.jpg\",\"is_closed\":false,\"url\":\"https:\\\\/\\\\/www.yelp.com\\\\/biz\\\\/raku-new-york-7?adjust_creative=_KkUE2bw4G90-gcuDs4aHw&utm_campaign=yelp_api_v3&utm_medium=api_v3_business_search&utm_source=_KkUE2bw4G90-gcuDs4aHw\",\"review_count\":1582,\"categories\":[{\"alias\":\"japanese\",\"title\":\"Japanese\"},{\"alias\":\"noodles\",\"title\":\"Noodles\"}],\"rating\":4.5,\"coordinates\":{\"latitude\":40.7264988089,\"longitude\":-73.9866526052},\"transactions\":[\"pickup\",\"delivery\"],\"location\":{\"address1\":\"342 E 6th St\",\"address2\":\"\",\"address3\":\"\",\"city\":\"New York\",\"zip_code\":\"10003\",\"country\":\"US\",\"state\":\"NY\",\"display_address\":[\"342 E 6th St\",\"New York, NY 10003\"]},\"phone\":\"+12122281324\",\"display_phone\":\"(212) 228-1324\",\"distance\":2428.039248913,\"price\":\"$$\"},{\"id\":\"g8loNCHFIviiXEMN4nbKkA\",\"alias\":\"sushi-295-mercer-new-york\",\"name\":\"Sushi 295 Mercer\",\"image_url\":\"https:\\\\/\\\\/s3-media1.fl.yelpcdn.com\\\\/bphoto\\\\/JIeOySt5JKHpbpWS8KcFHw\\\\/o.jpg\",\"is_closed\":false,\"url\":\"https:\\\\/\\\\/www.yelp.com\\\\/biz\\\\/sushi-295-mercer-new-york?adjust_creative=_KkUE2bw4G90-gcuDs4aHw&utm_campaign=yelp_api_v3&utm_medium=api_v3_business_search&utm_source=_KkUE2bw4G90-gcuDs4aHw\",\"review_count\":25,\"categories\":[{\"alias\":\"sushi\",\"title\":\"Sushi Bars\"}],\"rating\":5.0,\"coordinates\":{\"latitude\":40.730331,\"longitude\":-73.993914},\"transactions\":[\"pickup\",\"delivery\"],\"location\":{\"address1\":\"295 Mercer St\",\"address2\":null,\"address3\":\"\",\"city\":\"New York\",\"zip_code\":\"10003\",\"country\":\"US\",\"state\":\"NY\",\"display_address\":[\"295 Mercer St\",\"New York, NY 10003\"]},\"phone\":\"+12127770295\",\"display_phone\":\"(212) 777-0295\",\"distance\":2770.9364937727,\"price\":null},{\"id\":\"TBp9gdS6xEbSQqffVZ7iag\",\"alias\":\"kazunori-nomad-new-york\",\"name\":\"KazuNori | NoMad\",\"image_url\":\"https:\\\\/\\\\/s3-media4.fl.yelpcdn.com\\\\/bphoto\\\\/FjKC8ZesjXfRoIJEp8IeqQ\\\\/o.jpg\",\"is_closed\":false,\"url\":\"https:\\\\/\\\\/www.yelp.com\\\\/biz\\\\/kazunori-nomad-new-york?adjust_creative=_KkUE2bw4G90-gcuDs4aHw&utm_campaign=yelp_api_v3&utm_medium=api_v3_business_search&utm_source=_KkUE2bw4G90-gcuDs4aHw\",\"review_count\":1462,\"categories\":[{\"alias\":\"sushi\",\"title\":\"Sushi Bars\"},{\"alias\":\"japanese\",\"title\":\"Japanese\"}],\"rating\":4.5,\"coordinates\":{\"latitude\":40.74519,\"longitude\":-73.98824},\"transactions\":[\"delivery\"],\"location\":{\"address1\":\"15 W 28th St\",\"address2\":null,\"address3\":null,\"city\":\"New York\",\"zip_code\":\"10001\",\"country\":\"US\",\"state\":\"NY\",\"display_address\":[\"15 W 28th St\",\"New York, NY 10001\"]},\"phone\":\"+13475945940\",\"display_phone\":\"(347) 594-5940\",\"distance\":4460.5381652181,\"price\":\"$$\"},{\"id\":\"BPZfuPvSxCfoppU4lPFm0Q\",\"alias\":\"domodomo-new-york-new-york-4\",\"name\":\"DOMODOMO - New York\",\"image_url\":\"https:\\\\/\\\\/s3-media1.fl.yelpcdn.com\\\\/bphoto\\\\/YX89PDM_-aBCL2USyNyhuw\\\\/o.jpg\",\"is_closed\":false,\"url\":\"https:\\\\/\\\\/www.yelp.com\\\\/biz\\\\/domodomo-new-york-new-york-4?adjust_creative=_KkUE2bw4G90-gcuDs4aHw&utm_campaign=yelp_api_v3&utm_medium=api_v3_business_search&utm_source=_KkUE2bw4G90-gcuDs4aHw\",\"review_count\":1598,\"categories\":[{\"alias\":\"japanese\",\"title\":\"Japanese\"},{\"alias\":\"sushi\",\"title\":\"Sushi Bars\"}],\"rating\":4.0,\"coordinates\":{\"latitude\":40.7280299,\"longitude\":-74.00167},\"transactions\":[\"delivery\"],\"location\":{\"address1\":\"140 W Houston St\",\"address2\":null,\"address3\":\"\",\"city\":\"New York\",\"zip_code\":\"10012\",\"country\":\"US\",\"state\":\"NY\",\"display_address\":[\"140 W Houston St\",\"New York, NY 10012\"]},\"phone\":\"+16467070301\",\"display_phone\":\"(646) 707-0301\",\"distance\":2584.2825548984,\"price\":\"$$$\"},{\"id\":\"CB-7kZ9u5fzhzYwPAIcelQ\",\"alias\":\"verge-brooklyn\",\"name\":\"Verge\",\"image_url\":\"https:\\\\/\\\\/s3-media3.fl.yelpcdn.com\\\\/bphoto\\\\/JAxU-zOeNIg6tJC7XTW1Hg\\\\/o.jpg\",\"is_closed\":false,\"url\":\"https:\\\\/\\\\/www.yelp.com\\\\/biz\\\\/verge-brooklyn?adjust_creative=_KkUE2bw4G90-gcuDs4aHw&utm_campaign=yelp_api_v3&utm_medium=api_v3_business_search&utm_source=_KkUE2bw4G90-gcuDs4aHw\",\"review_count\":38,\"categories\":[{\"alias\":\"sushi\",\"title\":\"Sushi Bars\"},{\"alias\":\"japanese\",\"title\":\"Japanese\"},{\"alias\":\"asianfusion\",\"title\":\"Asian Fusion\"}],\"rating\":5.0,\"coordinates\":{\"latitude\":40.7318859525,\"longitude\":-73.9580355288},\"transactions\":[\"pickup\",\"delivery\"],\"location\":{\"address1\":\"159 Franklin St\",\"address2\":null,\"address3\":\"\",\"city\":\"Brooklyn\",\"zip_code\":\"11222\",\"country\":\"US\",\"state\":\"NY\",\"display_address\":[\"159 Franklin St\",\"Brooklyn, NY 11222\"]},\"phone\":\"+13477213300\",\"display_phone\":\"(347) 721-3300\",\"distance\":4240.4579426753,\"price\":null},{\"id\":\"bu7k1pBrfbhGzYao3YoHsg\",\"alias\":\"nara-sushi-new-york\",\"name\":\"Nara Sushi\",\"image_url\":\"https:\\\\/\\\\/s3-media2.fl.yelpcdn.com\\\\/bphoto\\\\/_HhD2nAL2OT7YHiw8iebEA\\\\/o.jpg\",\"is_closed\":false,\"url\":\"https:\\\\/\\\\/www.yelp.com\\\\/biz\\\\/nara-sushi-new-york?adjust_creative=_KkUE2bw4G90-gcuDs4aHw&utm_campaign=yelp_api_v3&utm_medium=api_v3_business_search&utm_source=_KkUE2bw4G90-gcuDs4aHw\",\"review_count\":120,\"categories\":[{\"alias\":\"sushi\",\"title\":\"Sushi Bars\"},{\"alias\":\"japanese\",\"title\":\"Japanese\"}],\"rating\":4.5,\"coordinates\":{\"latitude\":40.70377,\"longitude\":-74.01041},\"transactions\":[\"pickup\",\"delivery\"],\"location\":{\"address1\":\"76 Pearl St\",\"address2\":null,\"address3\":\"\",\"city\":\"New York\",\"zip_code\":\"10004\",\"country\":\"US\",\"state\":\"NY\",\"display_address\":[\"76 Pearl St\",\"New York, NY 10004\"]},\"phone\":\"+16467200202\",\"display_phone\":\"(646) 720-0202\",\"distance\":1369.8053604263,\"price\":\"$$\"},{\"id\":\"pNe8ZCkGTe4cXfKdOF7kYQ\",\"alias\":\"ise-restaurant-new-york-3\",\"name\":\"Ise Restaurant\",\"image_url\":\"https:\\\\/\\\\/s3-media2.fl.yelpcdn.com\\\\/bphoto\\\\/S5SGXwZfHG8Esw2x9-CF4A\\\\/o.jpg\",\"is_closed\":false,\"url\":\"https:\\\\/\\\\/www.yelp.com\\\\/biz\\\\/ise-restaurant-new-york-3?adjust_creative=_KkUE2bw4G90-gcuDs4aHw&utm_campaign=yelp_api_v3&utm_medium=api_v3_business_search&utm_source=_KkUE2bw4G90-gcuDs4aHw\",\"review_count\":642,\"categories\":[{\"alias\":\"japanese\",\"title\":\"Japanese\"},{\"alias\":\"sushi\",\"title\":\"Sushi Bars\"}],\"rating\":4.5,\"coordinates\":{\"latitude\":40.7291024,\"longitude\":-73.9900618},\"transactions\":[\"pickup\",\"restaurant_reservation\",\"delivery\"],\"location\":{\"address1\":\"63 Cooper Sq\",\"address2\":null,\"address3\":\"\",\"city\":\"New York\",\"zip_code\":\"10003\",\"country\":\"US\",\"state\":\"NY\",\"display_address\":[\"63 Cooper Sq\",\"New York, NY 10003\"]},\"phone\":\"+12122284152\",\"display_phone\":\"(212) 228-4152\",\"distance\":2654.6575298993,\"price\":\"$$\"},{\"id\":\"Exb6scc1mLuhsWrMLJqw9g\",\"alias\":\"sushi-lab-east-village-new-york\",\"name\":\"Sushi Lab - East Village\",\"image_url\":\"https:\\\\/\\\\/s3-media3.fl.yelpcdn.com\\\\/bphoto\\\\/aVyv8gI6HFQYxgzQwic6jA\\\\/o.jpg\",\"is_closed\":false,\"url\":\"https:\\\\/\\\\/www.yelp.com\\\\/biz\\\\/sushi-lab-east-village-new-york?adjust_creative=_KkUE2bw4G90-gcuDs4aHw&utm_campaign=yelp_api_v3&utm_medium=api_v3_business_search&utm_source=_KkUE2bw4G90-gcuDs4aHw\",\"review_count\":85,\"categories\":[{\"alias\":\"japanese\",\"title\":\"Japanese\"},{\"alias\":\"sushi\",\"title\":\"Sushi Bars\"}],\"rating\":5.0,\"coordinates\":{\"latitude\":40.7297938747,\"longitude\":-73.9853292},\"transactions\":[],\"location\":{\"address1\":\"320 East 11th St\",\"address2\":null,\"address3\":\"\",\"city\":\"New York\",\"zip_code\":\"10003\",\"country\":\"US\",\"state\":\"NY\",\"display_address\":[\"320 East 11th St\",\"New York, NY 10003\"]},\"phone\":\"+12126653737\",\"display_phone\":\"(212) 665-3737\",\"distance\":2810.9080245958,\"price\":null},{\"id\":\"itblJyiTY2h2ACidLk66oA\",\"alias\":\"takahachi-new-york\",\"name\":\"Takahachi\",\"image_url\":\"https:\\\\/\\\\/s3-media1.fl.yelpcdn.com\\\\/bphoto\\\\/LTulrxSQ7mcOHeRBVJQgOQ\\\\/o.jpg\",\"is_closed\":false,\"url\":\"https:\\\\/\\\\/www.yelp.com\\\\/biz\\\\/takahachi-new-york?adjust_creative=_KkUE2bw4G90-gcuDs4aHw&utm_campaign=yelp_api_v3&utm_medium=api_v3_business_search&utm_source=_KkUE2bw4G90-gcuDs4aHw\",\"review_count\":613,\"categories\":[{\"alias\":\"sushi\",\"title\":\"Sushi Bars\"},{\"alias\":\"japanese\",\"title\":\"Japanese\"}],\"rating\":4.0,\"coordinates\":{\"latitude\":40.725315,\"longitude\":-73.984436},\"transactions\":[\"delivery\"],\"location\":{\"address1\":\"85 Ave A\",\"address2\":\"\",\"address3\":\"\",\"city\":\"New York\",\"zip_code\":\"10009\",\"country\":\"US\",\"state\":\"NY\",\"display_address\":[\"85 Ave A\",\"New York, NY 10009\"]},\"phone\":\"+12125056524\",\"display_phone\":\"(212) 505-6524\",\"distance\":2353.3280141569,\"price\":\"$$\"},{\"id\":\"6lUsFj0KCao678o9L7QwUw\",\"alias\":\"hatsuhana-new-york\",\"name\":\"Hatsuhana\",\"image_url\":\"https:\\\\/\\\\/s3-media2.fl.yelpcdn.com\\\\/bphoto\\\\/BgU4cogcT7JT9raJ59vlwQ\\\\/o.jpg\",\"is_closed\":false,\"url\":\"https:\\\\/\\\\/www.yelp.com\\\\/biz\\\\/hatsuhana-new-york?adjust_creative=_KkUE2bw4G90-gcuDs4aHw&utm_campaign=yelp_api_v3&utm_medium=api_v3_business_search&utm_source=_KkUE2bw4G90-gcuDs4aHw\",\"review_count\":1539,\"categories\":[{\"alias\":\"japanese\",\"title\":\"Japanese\"},{\"alias\":\"sushi\",\"title\":\"Sushi Bars\"}],\"rating\":4.0,\"coordinates\":{\"latitude\":40.75703,\"longitude\":-73.97692},\"transactions\":[\"delivery\",\"pickup\",\"restaurant_reservation\"],\"location\":{\"address1\":\"17 E 48th St\",\"address2\":\"\",\"address3\":\"\",\"city\":\"New York\",\"zip_code\":\"10017\",\"country\":\"US\",\"state\":\"NY\",\"display_address\":[\"17 E 48th St\",\"New York, NY 10017\"]},\"phone\":\"+12123553345\",\"display_phone\":\"(212) 355-3345\",\"distance\":5920.0494311343,\"price\":\"$$$\"},{\"id\":\"MGRo61aHFUeRlWhSbTv2NA\",\"alias\":\"sushi-by-m-new-york\",\"name\":\"Sushi By M\",\"image_url\":\"https:\\\\/\\\\/s3-media2.fl.yelpcdn.com\\\\/bphoto\\\\/YnguBnyTa_XwMRdM-3m2_g\\\\/o.jpg\",\"is_closed\":false,\"url\":\"https:\\\\/\\\\/www.yelp.com\\\\/biz\\\\/sushi-by-m-new-york?adjust_creative=_KkUE2bw4G90-gcuDs4aHw&utm_campaign=yelp_api_v3&utm_medium=api_v3_business_search&utm_source=_KkUE2bw4G90-gcuDs4aHw\",\"review_count\":1117,\"categories\":[{\"alias\":\"sushi\",\"title\":\"Sushi Bars\"}],\"rating\":4.5,\"coordinates\":{\"latitude\":40.72659,\"longitude\":-73.98873},\"transactions\":[],\"location\":{\"address1\":\"300 E 5th St\",\"address2\":null,\"address3\":\"\",\"city\":\"New York\",\"zip_code\":\"10003\",\"country\":\"US\",\"state\":\"NY\",\"display_address\":[\"300 E 5th St\",\"New York, NY 10003\"]},\"phone\":\"+13476888101\",\"display_phone\":\"(347) 688-8101\",\"distance\":2397.5738241267,\"price\":\"$$$$\"},{\"id\":\"qEe7nIhPfEL6L0-VYhWRrA\",\"alias\":\"raku-new-york-6\",\"name\":\"Raku\",\"image_url\":\"https:\\\\/\\\\/s3-media2.fl.yelpcdn.com\\\\/bphoto\\\\/F27q2Tq72amfU1iyq1AOyg\\\\/o.jpg\",\"is_closed\":false,\"url\":\"https:\\\\/\\\\/www.yelp.com\\\\/biz\\\\/raku-new-york-6?adjust_creative=_KkUE2bw4G90-gcuDs4aHw&utm_campaign=yelp_api_v3&utm_medium=api_v3_business_search&utm_source=_KkUE2bw4G90-gcuDs4aHw\",\"review_count\":921,\"categories\":[{\"alias\":\"japanese\",\"title\":\"Japanese\"},{\"alias\":\"noodles\",\"title\":\"Noodles\"}],\"rating\":4.5,\"coordinates\":{\"latitude\":40.72728,\"longitude\":-74.00252},\"transactions\":[\"delivery\",\"pickup\"],\"location\":{\"address1\":\"48 Macdougal St\",\"address2\":null,\"address3\":\"\",\"city\":\"New York\",\"zip_code\":\"10012\",\"country\":\"US\",\"state\":\"NY\",\"display_address\":[\"48 Macdougal St\",\"New York, NY 10012\"]},\"phone\":\"+12129894797\",\"display_phone\":\"(212) 989-4797\",\"distance\":2522.2670460297,\"price\":\"$$\"},{\"id\":\"jt-0y4RJ20ONbkxxNWG_Sw\",\"alias\":\"new-mizu-sushi-new-york\",\"name\":\"New Mizu Sushi\",\"image_url\":\"https:\\\\/\\\\/s3-media3.fl.yelpcdn.com\\\\/bphoto\\\\/ka1qLBkZ1udk12oVxE4FsA\\\\/o.jpg\",\"is_closed\":false,\"url\":\"https:\\\\/\\\\/www.yelp.com\\\\/biz\\\\/new-mizu-sushi-new-york?adjust_creative=_KkUE2bw4G90-gcuDs4aHw&utm_campaign=yelp_api_v3&utm_medium=api_v3_business_search&utm_source=_KkUE2bw4G90-gcuDs4aHw\",\"review_count\":242,\"categories\":[{\"alias\":\"sushi\",\"title\":\"Sushi Bars\"},{\"alias\":\"japanese\",\"title\":\"Japanese\"}],\"rating\":4.5,\"coordinates\":{\"latitude\":40.7283,\"longitude\":-73.98538},\"transactions\":[\"delivery\",\"pickup\"],\"location\":{\"address1\":\"350 E 9th St\",\"address2\":null,\"address3\":\"\",\"city\":\"New York\",\"zip_code\":\"10003\",\"country\":\"US\",\"state\":\"NY\",\"display_address\":[\"350 E 9th St\",\"New York, NY 10003\"]},\"phone\":\"+16469985453\",\"display_phone\":\"(646) 998-5453\",\"distance\":2649.1361250812,\"price\":\"$$\"},{\"id\":\"axqp3pGJXnTLgq2QrPyDyQ\",\"alias\":\"benemon-new-york\",\"name\":\"Benemon\",\"image_url\":\"https:\\\\/\\\\/s3-media3.fl.yelpcdn.com\\\\/bphoto\\\\/5ZRHsFgkyoSzac8ofvhvvg\\\\/o.jpg\",\"is_closed\":false,\"url\":\"https:\\\\/\\\\/www.yelp.com\\\\/biz\\\\/benemon-new-york?adjust_creative=_KkUE2bw4G90-gcuDs4aHw&utm_campaign=yelp_api_v3&utm_medium=api_v3_business_search&utm_source=_KkUE2bw4G90-gcuDs4aHw\",\"review_count\":717,\"categories\":[{\"alias\":\"japanese\",\"title\":\"Japanese\"},{\"alias\":\"tapasmallplates\",\"title\":\"Tapas\\\\/Small Plates\"},{\"alias\":\"cocktailbars\",\"title\":\"Cocktail Bars\"}],\"rating\":4.5,\"coordinates\":{\"latitude\":40.72551,\"longitude\":-73.98838},\"transactions\":[\"delivery\",\"pickup\",\"restaurant_reservation\"],\"location\":{\"address1\":\"108 E 4th St\",\"address2\":null,\"address3\":\"\",\"city\":\"New York\",\"zip_code\":\"10003\",\"country\":\"US\",\"state\":\"NY\",\"display_address\":[\"108 E 4th St\",\"New York, NY 10003\"]},\"phone\":\"+12126143006\",\"display_phone\":\"(212) 614-3006\",\"distance\":2289.2038585587,\"price\":\"$$\"},{\"id\":\"33CZJJ7m31vkj2eBQBvOUg\",\"alias\":\"blue-ribbon-sushi-bar-and-grill-financial-district-new-york\",\"name\":\"Blue Ribbon Sushi Bar & Grill - Financial District\",\"image_url\":\"https:\\\\/\\\\/s3-media1.fl.yelpcdn.com\\\\/bphoto\\\\/OpWAUoNyHq-mYJGBXHJSuQ\\\\/o.jpg\",\"is_closed\":false,\"url\":\"https:\\\\/\\\\/www.yelp.com\\\\/biz\\\\/blue-ribbon-sushi-bar-and-grill-financial-district-new-york?adjust_creative=_KkUE2bw4G90-gcuDs4aHw&utm_campaign=yelp_api_v3&utm_medium=api_v3_business_search&utm_source=_KkUE2bw4G90-gcuDs4aHw\",\"review_count\":42,\"categories\":[{\"alias\":\"japanese\",\"title\":\"Japanese\"},{\"alias\":\"sushi\",\"title\":\"Sushi Bars\"}],\"rating\":4.5,\"coordinates\":{\"latitude\":40.70799,\"longitude\":-74.0077433877},\"transactions\":[],\"location\":{\"address1\":\"84 William St\",\"address2\":null,\"address3\":\"\",\"city\":\"New York\",\"zip_code\":\"10038\",\"country\":\"US\",\"state\":\"NY\",\"display_address\":[\"84 William St\",\"New York, NY 10038\"]},\"phone\":\"+12123154900\",\"display_phone\":\"(212) 315-4900\",\"distance\":1168.5317664418,\"price\":null},{\"id\":\"_FICyzFLQxR7N62I6qU94A\",\"alias\":\"kanahashi-brooklyn\",\"name\":\"KanaHashi\",\"image_url\":\"https:\\\\/\\\\/s3-media2.fl.yelpcdn.com\\\\/bphoto\\\\/fX3d1M5hDVxzDxx5TPFCYg\\\\/o.jpg\",\"is_closed\":false,\"url\":\"https:\\\\/\\\\/www.yelp.com\\\\/biz\\\\/kanahashi-brooklyn?adjust_creative=_KkUE2bw4G90-gcuDs4aHw&utm_campaign=yelp_api_v3&utm_medium=api_v3_business_search&utm_source=_KkUE2bw4G90-gcuDs4aHw\",\"review_count\":212,\"categories\":[{\"alias\":\"japanese\",\"title\":\"Japanese\"},{\"alias\":\"sushi\",\"title\":\"Sushi Bars\"},{\"alias\":\"asianfusion\",\"title\":\"Asian Fusion\"}],\"rating\":4.5,\"coordinates\":{\"latitude\":40.73263,\"longitude\":-73.95482},\"transactions\":[\"delivery\",\"pickup\"],\"location\":{\"address1\":\"981 Manhattan Ave\",\"address2\":\"\",\"address3\":null,\"city\":\"Brooklyn\",\"zip_code\":\"11222\",\"country\":\"US\",\"state\":\"NY\",\"display_address\":[\"981 Manhattan Ave\",\"Brooklyn, NY 11222\"]},\"phone\":\"+17189069871\",\"display_phone\":\"(718) 906-9871\",\"distance\":4490.334487927,\"price\":\"$$\"},{\"id\":\"c9WNksyNtogFwZ1NZhlbNw\",\"alias\":\"sushi-35-west-new-york\",\"name\":\"Sushi 35 West\",\"image_url\":\"https:\\\\/\\\\/s3-media3.fl.yelpcdn.com\\\\/bphoto\\\\/oEw0UhMxGCJ4MpKovEtZ-g\\\\/o.jpg\",\"is_closed\":false,\"url\":\"https:\\\\/\\\\/www.yelp.com\\\\/biz\\\\/sushi-35-west-new-york?adjust_creative=_KkUE2bw4G90-gcuDs4aHw&utm_campaign=yelp_api_v3&utm_medium=api_v3_business_search&utm_source=_KkUE2bw4G90-gcuDs4aHw\",\"review_count\":218,\"categories\":[{\"alias\":\"japanese\",\"title\":\"Japanese\"},{\"alias\":\"sushi\",\"title\":\"Sushi Bars\"}],\"rating\":4.5,\"coordinates\":{\"latitude\":40.7518557627,\"longitude\":-73.9910022},\"transactions\":[\"delivery\",\"pickup\"],\"location\":{\"address1\":\"224 W 35th St\",\"address2\":\"Fl 2nd\",\"address3\":\"\",\"city\":\"New York\",\"zip_code\":\"10001\",\"country\":\"US\",\"state\":\"NY\",\"display_address\":[\"224 W 35th St\",\"Fl 2nd\",\"New York, NY 10001\"]},\"phone\":\"+16468826666\",\"display_phone\":\"(646) 882-6666\",\"distance\":5168.0962953978,\"price\":null},{\"id\":\"QR1YIRzFjd2bi5iBzT9zXg\",\"alias\":\"blue-ribbon-sushi-new-york\",\"name\":\"Blue Ribbon Sushi\",\"image_url\":\"https:\\\\/\\\\/s3-media4.fl.yelpcdn.com\\\\/bphoto\\\\/YbiMhpUHkB6avSxrCDPHKA\\\\/o.jpg\",\"is_closed\":false,\"url\":\"https:\\\\/\\\\/www.yelp.com\\\\/biz\\\\/blue-ribbon-sushi-new-york?adjust_creative=_KkUE2bw4G90-gcuDs4aHw&utm_campaign=yelp_api_v3&utm_medium=api_v3_business_search&utm_source=_KkUE2bw4G90-gcuDs4aHw\",\"review_count\":1242,\"categories\":[{\"alias\":\"sushi\",\"title\":\"Sushi Bars\"},{\"alias\":\"japanese\",\"title\":\"Japanese\"}],\"rating\":4.0,\"coordinates\":{\"latitude\":40.726083,\"longitude\":-74.002402},\"transactions\":[\"pickup\"],\"location\":{\"address1\":\"119 Sullivan St\",\"address2\":\"\",\"address3\":\"\",\"city\":\"New York\",\"zip_code\":\"10012\",\"country\":\"US\",\"state\":\"NY\",\"display_address\":[\"119 Sullivan St\",\"New York, NY 10012\"]},\"phone\":\"+12123430404\",\"display_phone\":\"(212) 343-0404\",\"distance\":2394.4533105987,\"price\":\"$$\"},{\"id\":\"zGAQqDu0Ak2khVYs9WdQxw\",\"alias\":\"sushi-nakazawa-new-york\",\"name\":\"Sushi Nakazawa\",\"image_url\":\"https:\\\\/\\\\/s3-media2.fl.yelpcdn.com\\\\/bphoto\\\\/oaWPXbX-O9-duVWn50cyvQ\\\\/o.jpg\",\"is_closed\":false,\"url\":\"https:\\\\/\\\\/www.yelp.com\\\\/biz\\\\/sushi-nakazawa-new-york?adjust_creative=_KkUE2bw4G90-gcuDs4aHw&utm_campaign=yelp_api_v3&utm_medium=api_v3_business_search&utm_source=_KkUE2bw4G90-gcuDs4aHw\",\"review_count\":1759,\"categories\":[{\"alias\":\"japanese\",\"title\":\"Japanese\"},{\"alias\":\"sushi\",\"title\":\"Sushi Bars\"}],\"rating\":4.5,\"coordinates\":{\"latitude\":40.7317465229,\"longitude\":-74.0045493828},\"transactions\":[],\"location\":{\"address1\":\"23 Commerce St\",\"address2\":\"\",\"address3\":\"\",\"city\":\"New York\",\"zip_code\":\"10014\",\"country\":\"US\",\"state\":\"NY\",\"display_address\":[\"23 Commerce St\",\"New York, NY 10014\"]},\"phone\":\"+12129242212\",\"display_phone\":\"(212) 924-2212\",\"distance\":3049.6636396001,\"price\":\"$$$$\"},{\"id\":\"vbia6xGsSU7ZyQVmg2ROvA\",\"alias\":\"shikku-new-york\",\"name\":\"Shikku\",\"image_url\":\"https:\\\\/\\\\/s3-media1.fl.yelpcdn.com\\\\/bphoto\\\\/Zyk0-gL_m3pWH1JQpxSLYw\\\\/o.jpg\",\"is_closed\":false,\"url\":\"https:\\\\/\\\\/www.yelp.com\\\\/biz\\\\/shikku-new-york?adjust_creative=_KkUE2bw4G90-gcuDs4aHw&utm_campaign=yelp_api_v3&utm_medium=api_v3_business_search&utm_source=_KkUE2bw4G90-gcuDs4aHw\",\"review_count\":5,\"categories\":[{\"alias\":\"sushi\",\"title\":\"Sushi Bars\"},{\"alias\":\"japanese\",\"title\":\"Japanese\"}],\"rating\":4.5,\"coordinates\":{\"latitude\":40.7061817748,\"longitude\":-74.0022915308},\"transactions\":[],\"location\":{\"address1\":\"96 South St\",\"address2\":null,\"address3\":\"\",\"city\":\"New York\",\"zip_code\":\"10038\",\"country\":\"US\",\"state\":\"NY\",\"display_address\":[\"96 South St\",\"New York, NY 10038\"]},\"phone\":\"+16468686000\",\"display_phone\":\"(646) 868-6000\",\"distance\":679.1652830579,\"price\":null},{\"id\":\"uCXsqMEfD12Rlmp1H09_Nw\",\"alias\":\"omakase-sushi-dairo-new-york\",\"name\":\"Omakase Sushi Dairo\",\"image_url\":\"https:\\\\/\\\\/s3-media3.fl.yelpcdn.com\\\\/bphoto\\\\/tUAcbtH0pF9FTCto4k0aZQ\\\\/o.jpg\",\"is_closed\":false,\"url\":\"https:\\\\/\\\\/www.yelp.com\\\\/biz\\\\/omakase-sushi-dairo-new-york?adjust_creative=_KkUE2bw4G90-gcuDs4aHw&utm_campaign=yelp_api_v3&utm_medium=api_v3_business_search&utm_source=_KkUE2bw4G90-gcuDs4aHw\",\"review_count\":104,\"categories\":[{\"alias\":\"japanese\",\"title\":\"Japanese\"},{\"alias\":\"sushi\",\"title\":\"Sushi Bars\"},{\"alias\":\"soup\",\"title\":\"Soup\"}],\"rating\":5.0,\"coordinates\":{\"latitude\":40.73601,\"longitude\":-73.98542},\"transactions\":[\"delivery\",\"pickup\",\"restaurant_reservation\"],\"location\":{\"address1\":\"208 3rd Ave\",\"address2\":null,\"address3\":\"\",\"city\":\"New York\",\"zip_code\":\"10003\",\"country\":\"US\",\"state\":\"NY\",\"display_address\":[\"208 3rd Ave\",\"New York, NY 10003\"]},\"phone\":\"+12125294193\",\"display_phone\":\"(212) 529-4193\",\"distance\":3481.3648542297,\"price\":null},{\"id\":\"d8qCvlsG3jwxQPZc_OGogQ\",\"alias\":\"hibino-brooklyn\",\"name\":\"Hibino\",\"image_url\":\"https:\\\\/\\\\/s3-media3.fl.yelpcdn.com\\\\/bphoto\\\\/m3YUlxg7iuvi4t_CDDtmXQ\\\\/o.jpg\",\"is_closed\":false,\"url\":\"https:\\\\/\\\\/www.yelp.com\\\\/biz\\\\/hibino-brooklyn?adjust_creative=_KkUE2bw4G90-gcuDs4aHw&utm_campaign=yelp_api_v3&utm_medium=api_v3_business_search&utm_source=_KkUE2bw4G90-gcuDs4aHw\",\"review_count\":422,\"categories\":[{\"alias\":\"japanese\",\"title\":\"Japanese\"},{\"alias\":\"sushi\",\"title\":\"Sushi Bars\"}],\"rating\":4.0,\"coordinates\":{\"latitude\":40.69017,\"longitude\":-73.99637},\"transactions\":[\"delivery\"],\"location\":{\"address1\":\"333 Henry St\",\"address2\":\"\",\"address3\":\"\",\"city\":\"Brooklyn\",\"zip_code\":\"11201\",\"country\":\"US\",\"state\":\"NY\",\"display_address\":[\"333 Henry St\",\"Brooklyn, NY 11201\"]},\"phone\":\"+17182608052\",\"display_phone\":\"(718) 260-8052\",\"distance\":1709.6786814435,\"price\":\"$$\"},{\"id\":\"eQ4QUGvuHGBzsOrphsVc6A\",\"alias\":\"kimura-new-york\",\"name\":\"Kimura\",\"image_url\":\"https:\\\\/\\\\/s3-media3.fl.yelpcdn.com\\\\/bphoto\\\\/mljczn7werHwgQX7_cF-rA\\\\/o.jpg\",\"is_closed\":false,\"url\":\"https:\\\\/\\\\/www.yelp.com\\\\/biz\\\\/kimura-new-york?adjust_creative=_KkUE2bw4G90-gcuDs4aHw&utm_campaign=yelp_api_v3&utm_medium=api_v3_business_search&utm_source=_KkUE2bw4G90-gcuDs4aHw\",\"review_count\":387,\"categories\":[{\"alias\":\"japanese\",\"title\":\"Japanese\"},{\"alias\":\"hotpot\",\"title\":\"Hot Pot\"},{\"alias\":\"sushi\",\"title\":\"Sushi Bars\"}],\"rating\":4.5,\"coordinates\":{\"latitude\":40.7290432506,\"longitude\":-73.9882174},\"transactions\":[\"delivery\",\"pickup\"],\"location\":{\"address1\":\"31 St Marks Pl\",\"address2\":null,\"address3\":\"\",\"city\":\"New York\",\"zip_code\":\"10003\",\"country\":\"US\",\"state\":\"NY\",\"display_address\":[\"31 St Marks Pl\",\"New York, NY 10003\"]},\"phone\":\"+19179051864\",\"display_phone\":\"(917) 905-1864\",\"distance\":2673.5140770196,\"price\":\"$$$\"},{\"id\":\"22uB5xk1aXPwRi9mc6bmOQ\",\"alias\":\"ajisai-on-duane-new-york\",\"name\":\"Ajisai on Duane\",\"image_url\":\"https:\\\\/\\\\/s3-media4.fl.yelpcdn.com\\\\/bphoto\\\\/YkmcNTGNTo95GQurPswiVg\\\\/o.jpg\",\"is_closed\":false,\"url\":\"https:\\\\/\\\\/www.yelp.com\\\\/biz\\\\/ajisai-on-duane-new-york?adjust_creative=_KkUE2bw4G90-gcuDs4aHw&utm_campaign=yelp_api_v3&utm_medium=api_v3_business_search&utm_source=_KkUE2bw4G90-gcuDs4aHw\",\"review_count\":57,\"categories\":[{\"alias\":\"japanese\",\"title\":\"Japanese\"},{\"alias\":\"sushi\",\"title\":\"Sushi Bars\"},{\"alias\":\"seafood\",\"title\":\"Seafood\"}],\"rating\":4.5,\"coordinates\":{\"latitude\":40.71751,\"longitude\":-74.01021},\"transactions\":[\"delivery\",\"pickup\",\"restaurant_reservation\"],\"location\":{\"address1\":\"183 Duane St\",\"address2\":null,\"address3\":\"\",\"city\":\"New York\",\"zip_code\":\"10013\",\"country\":\"US\",\"state\":\"NY\",\"display_address\":[\"183 Duane St\",\"New York, NY 10013\"]},\"phone\":\"+16464227828\",\"display_phone\":\"(646) 422-7828\",\"distance\":1899.9850549687,\"price\":null},{\"id\":\"cYFWtHIlqnsx_jOtikSWSA\",\"alias\":\"ume-new-york\",\"name\":\"Ume\",\"image_url\":\"https:\\\\/\\\\/s3-media1.fl.yelpcdn.com\\\\/bphoto\\\\/fowhAo2oGMHMfvLUMwt-fg\\\\/o.jpg\",\"is_closed\":false,\"url\":\"https:\\\\/\\\\/www.yelp.com\\\\/biz\\\\/ume-new-york?adjust_creative=_KkUE2bw4G90-gcuDs4aHw&utm_campaign=yelp_api_v3&utm_medium=api_v3_business_search&utm_source=_KkUE2bw4G90-gcuDs4aHw\",\"review_count\":22,\"categories\":[{\"alias\":\"sushi\",\"title\":\"Sushi Bars\"}],\"rating\":4.5,\"coordinates\":{\"latitude\":40.7623239653,\"longitude\":-73.9597784646},\"transactions\":[\"delivery\",\"pickup\"],\"location\":{\"address1\":\"1154 1st Ave\",\"address2\":\"\",\"address3\":null,\"city\":\"New York\",\"zip_code\":\"10065\",\"country\":\"US\",\"state\":\"NY\",\"display_address\":[\"1154 1st Ave\",\"New York, NY 10065\"]},\"phone\":\"\",\"display_phone\":\"\",\"distance\":6961.2187839343,\"price\":null},{\"id\":\"AFisWoWm0pfxEi1dMYitKw\",\"alias\":\"kyoto-brooklyn\",\"name\":\"Kyoto\",\"image_url\":\"https:\\\\/\\\\/s3-media3.fl.yelpcdn.com\\\\/bphoto\\\\/tsaPXswocSvunGg5je1-mA\\\\/o.jpg\",\"is_closed\":false,\"url\":\"https:\\\\/\\\\/www.yelp.com\\\\/biz\\\\/kyoto-brooklyn?adjust_creative=_KkUE2bw4G90-gcuDs4aHw&utm_campaign=yelp_api_v3&utm_medium=api_v3_business_search&utm_source=_KkUE2bw4G90-gcuDs4aHw\",\"review_count\":246,\"categories\":[{\"alias\":\"sushi\",\"title\":\"Sushi Bars\"},{\"alias\":\"japanese\",\"title\":\"Japanese\"}],\"rating\":4.0,\"coordinates\":{\"latitude\":40.6877593994,\"longitude\":-73.9895019531},\"transactions\":[\"delivery\",\"pickup\"],\"location\":{\"address1\":\"115 Smith St\",\"address2\":\"\",\"address3\":\"\",\"city\":\"Brooklyn\",\"zip_code\":\"11201\",\"country\":\"US\",\"state\":\"NY\",\"display_address\":[\"115 Smith St\",\"Brooklyn, NY 11201\"]},\"phone\":\"+17185225888\",\"display_phone\":\"(718) 522-5888\",\"distance\":2005.5017231162,\"price\":\"$$\"},{\"id\":\"T2fE7hGS83Ba-QNCOqbK4A\",\"alias\":\"ako-brooklyn-5\",\"name\":\"Ako\",\"image_url\":\"https:\\\\/\\\\/s3-media3.fl.yelpcdn.com\\\\/bphoto\\\\/9T8kJISGZPprSeeg9tmlwA\\\\/o.jpg\",\"is_closed\":false,\"url\":\"https:\\\\/\\\\/www.yelp.com\\\\/biz\\\\/ako-brooklyn-5?adjust_creative=_KkUE2bw4G90-gcuDs4aHw&utm_campaign=yelp_api_v3&utm_medium=api_v3_business_search&utm_source=_KkUE2bw4G90-gcuDs4aHw\",\"review_count\":500,\"categories\":[{\"alias\":\"sushi\",\"title\":\"Sushi Bars\"},{\"alias\":\"japanese\",\"title\":\"Japanese\"},{\"alias\":\"wine_bars\",\"title\":\"Wine Bars\"}],\"rating\":4.0,\"coordinates\":{\"latitude\":40.7168599,\"longitude\":-73.95845},\"transactions\":[\"delivery\",\"pickup\"],\"location\":{\"address1\":\"205 Bedford Ave\",\"address2\":\"\",\"address3\":\"\",\"city\":\"Brooklyn\",\"zip_code\":\"11211\",\"country\":\"US\",\"state\":\"NY\",\"display_address\":[\"205 Bedford Ave\",\"Brooklyn, NY 11211\"]},\"phone\":\"+17183022035\",\"display_phone\":\"(718) 302-2035\",\"distance\":3275.3405125447,\"price\":\"$$\"},{\"id\":\"KxOAVoyJ55G-gEQqhnBpAQ\",\"alias\":\"daigo-handroll-bar-brooklyn\",\"name\":\"Daigo Handroll Bar\",\"image_url\":\"https:\\\\/\\\\/s3-media3.fl.yelpcdn.com\\\\/bphoto\\\\/T2P57xzFEeHZkcmyCuOffg\\\\/o.jpg\",\"is_closed\":false,\"url\":\"https:\\\\/\\\\/www.yelp.com\\\\/biz\\\\/daigo-handroll-bar-brooklyn?adjust_creative=_KkUE2bw4G90-gcuDs4aHw&utm_campaign=yelp_api_v3&utm_medium=api_v3_business_search&utm_source=_KkUE2bw4G90-gcuDs4aHw\",\"review_count\":131,\"categories\":[{\"alias\":\"sushi\",\"title\":\"Sushi Bars\"}],\"rating\":4.5,\"coordinates\":{\"latitude\":40.690884,\"longitude\":-73.982863},\"transactions\":[\"delivery\",\"pickup\"],\"location\":{\"address1\":\"445 Albee Sq\",\"address2\":null,\"address3\":null,\"city\":\"Brooklyn\",\"zip_code\":\"11201\",\"country\":\"US\",\"state\":\"NY\",\"display_address\":[\"445 Albee Sq\",\"Brooklyn, NY 11201\"]},\"phone\":\"\",\"display_phone\":\"\",\"distance\":1884.1406483319,\"price\":\"$$\"},{\"id\":\"GuPAGPMXUHw4ntkEAA-tow\",\"alias\":\"domo-sushi-new-york\",\"name\":\"Domo Sushi\",\"image_url\":\"https:\\\\/\\\\/s3-media3.fl.yelpcdn.com\\\\/bphoto\\\\/PEri9EgZKTdrwSg3oDOrXA\\\\/o.jpg\",\"is_closed\":false,\"url\":\"https:\\\\/\\\\/www.yelp.com\\\\/biz\\\\/domo-sushi-new-york?adjust_creative=_KkUE2bw4G90-gcuDs4aHw&utm_campaign=yelp_api_v3&utm_medium=api_v3_business_search&utm_source=_KkUE2bw4G90-gcuDs4aHw\",\"review_count\":51,\"categories\":[{\"alias\":\"sushi\",\"title\":\"Sushi Bars\"}],\"rating\":4.5,\"coordinates\":{\"latitude\":40.71718,\"longitude\":-73.99742},\"transactions\":[\"delivery\",\"pickup\"],\"location\":{\"address1\":\"98 Mott St\",\"address2\":null,\"address3\":\"\",\"city\":\"New York\",\"zip_code\":\"10013\",\"country\":\"US\",\"state\":\"NY\",\"display_address\":[\"98 Mott St\",\"New York, NY 10013\"]},\"phone\":\"+16464768177\",\"display_phone\":\"(646) 476-8177\",\"distance\":1328.2378279246,\"price\":\"$$$$\"}]'"
      ]
     },
     "execution_count": 12,
     "metadata": {},
     "output_type": "execute_result"
    }
   ],
   "source": [
    "businesses.to_json(orient='records')"
   ]
  },
  {
   "cell_type": "code",
   "execution_count": null,
   "id": "877fb170-1294-4079-895f-9ba916dff148",
   "metadata": {},
   "outputs": [],
   "source": []
  }
 ],
 "metadata": {
  "kernelspec": {
   "display_name": "Python (dojo-env)",
   "language": "python",
   "name": "dojo-env"
  },
  "language_info": {
   "codemirror_mode": {
    "name": "ipython",
    "version": 3
   },
   "file_extension": ".py",
   "mimetype": "text/x-python",
   "name": "python",
   "nbconvert_exporter": "python",
   "pygments_lexer": "ipython3",
   "version": "3.10.10"
  },
  "widgets": {
   "application/vnd.jupyter.widget-state+json": {
    "state": {},
    "version_major": 2,
    "version_minor": 0
   }
  }
 },
 "nbformat": 4,
 "nbformat_minor": 5
}
